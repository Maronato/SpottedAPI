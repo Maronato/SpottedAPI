{
 "cells": [
  {
   "cell_type": "code",
   "execution_count": 1,
   "metadata": {},
   "outputs": [
    {
     "name": "stderr",
     "output_type": "stream",
     "text": [
      "/Users/Maronato/anaconda/lib/python3.5/site-packages/sklearn/cross_validation.py:44: DeprecationWarning: This module was deprecated in version 0.18 in favor of the model_selection module into which all the refactored classes and functions are moved. Also note that the interface of the new CV iterators are different from that of this module. This module will be removed in 0.20.\n",
      "  \"This module will be removed in 0.20.\", DeprecationWarning)\n",
      "/Users/Maronato/anaconda/lib/python3.5/site-packages/sklearn/learning_curve.py:23: DeprecationWarning: This module was deprecated in version 0.18 in favor of the model_selection module into which all the functions are moved. This module will be removed in 0.20\n",
      "  DeprecationWarning)\n",
      "/Users/Maronato/anaconda/lib/python3.5/site-packages/sklearn/grid_search.py:43: DeprecationWarning: This module was deprecated in version 0.18 in favor of the model_selection module into which all the refactored classes and functions are moved. This module will be removed in 0.20.\n",
      "  DeprecationWarning)\n"
     ]
    }
   ],
   "source": [
    "%matplotlib inline\n",
    "import psycopg2\n",
    "import psycopg2.extras\n",
    "import urllib.parse as urlparse\n",
    "import pandas as pd\n",
    "import numpy as np\n",
    "import matplotlib.pyplot as plt\n",
    "from sklearn.feature_extraction.text import CountVectorizer\n",
    "from sklearn.naive_bayes import MultinomialNB\n",
    "from sklearn.pipeline import Pipeline\n",
    "from sklearn.cross_validation import KFold\n",
    "from sklearn.metrics import confusion_matrix, f1_score, accuracy_score, classification_report\n",
    "from sklearn.cross_validation import StratifiedKFold, cross_val_score, train_test_split \n",
    "import requests\n",
    "import re\n",
    "from nltk.tokenize import RegexpTokenizer\n",
    "from sklearn.feature_extraction.text import TfidfTransformer\n",
    "from sklearn.base import TransformerMixin\n",
    "from sklearn.learning_curve import learning_curve\n",
    "from sklearn.grid_search import GridSearchCV\n",
    "from sklearn.svm import SVC, LinearSVC"
   ]
  },
  {
   "cell_type": "code",
   "execution_count": 2,
   "metadata": {
    "collapsed": true
   },
   "outputs": [],
   "source": [
    "check_best_params = True"
   ]
  },
  {
   "cell_type": "markdown",
   "metadata": {},
   "source": [
    "# Connecting to the database"
   ]
  },
  {
   "cell_type": "code",
   "execution_count": 3,
   "metadata": {
    "collapsed": true
   },
   "outputs": [],
   "source": [
    "postgres_url = \"\" # Hidden\n",
    "\n",
    "url = urlparse.urlparse(postgres_url)\n",
    "dbname = url.path[1:]\n",
    "user = url.username\n",
    "password = url.password\n",
    "host = url.hostname\n",
    "port = url.port\n",
    "psql = psycopg2.connect(\n",
    "            dbname=dbname,\n",
    "            user=user,\n",
    "            password=password,\n",
    "            host=host,\n",
    "            port=port,\n",
    "            sslmode='require'\n",
    "            )\n",
    "cursor = psql.cursor()"
   ]
  },
  {
   "cell_type": "markdown",
   "metadata": {},
   "source": [
    "# Loading tables"
   ]
  },
  {
   "cell_type": "code",
   "execution_count": 4,
   "metadata": {
    "collapsed": true
   },
   "outputs": [],
   "source": [
    "cursor.execute(\"SELECT message, reason, suggestion FROM datasets_rejected\")\n",
    "raw_reject = cursor.fetchall()\n",
    "\n",
    "\n",
    "cursor.execute(\"SELECT message, suggestion FROM datasets_approved\")\n",
    "raw_approved = cursor.fetchall()"
   ]
  },
  {
   "cell_type": "code",
   "execution_count": 5,
   "metadata": {},
   "outputs": [
    {
     "data": {
      "text/plain": [
       "[{0: 'Teste, não postem', 1: 'Outro', 2: ''},\n",
       " {0: '\"Parem de fetichizar orientais\\r\\nParem de fetichizar transexuais\\r\\nParem de fetichizar bissexuais\\r\\nParem de fetichizar humanes\\r\\nParem de se masturbar, é pecado\\r\\nNão sirvo pra te agradar...\"\\r\\n\\r\\nAmigo(a), se você não quer ser fetichizado, é simples, basta não curtir os posts desse tipo, pq ninguém está te obrigando a nada.\\r\\n\\r\\nJá pensou que existem pessoas com as mesmas características  que GOSTAM ou QUEREM ser fetichizados?\\r\\n\\r\\nSe não transa, não destransa os transantes',\n",
       "  1: 'Ofensivo',\n",
       "  2: ''},\n",
       " {0: 'Já que estão falando de desenho, qual melhor desenho da Pixar/Disney?  Pro meu TCC (To Crushando, Caralho)',\n",
       "  1: 'Outro',\n",
       "  2: ''},\n",
       " {0: 'Adorei esse novo spotted mas tô MUITOA CHATEADA de não ter como mandar número do wpp! Aí o crush vai stalkear meu face, ver as fotos e já era nem pra rolar um papo hahahahaha \\r\\nNão tem forma alguma de deixar o wpp como forma de contato mesmo ? \\r\\nMas parabéns pela dedicação de vocês dá página!!!',\n",
       "  1: 'Flood',\n",
       "  2: ''},\n",
       " {0: 'oi!', 1: 'Outro', 2: ''},\n",
       " {0: 'Adorei esse novo spotted mas tô MUITOA CHATEADA de não ter como mandar número do wpp! Aí o crush vai stalkear meu face, ver as fotos e já era nem pra rolar um papo hahahahaha \\r\\nNão tem forma alguma de deixar o wpp como forma de contato mesmo ? \\r\\nMas parabéns pela dedicação de vocês dá página!!!',\n",
       "  1: 'Ofensivo',\n",
       "  2: ''},\n",
       " {0: 'Tô um pouco cansado de pessoas que querem se sentir ofendidas com tudo... Exageros também são problemáticos!',\n",
       "  1: 'Off-topic',\n",
       "  2: ''},\n",
       " {0: 'João Gabriel Bueno, vc é meu crush desde o primeiro ano! Já que nos formamos esse ano, preciso saber se eu finalmente vou ter uma chance de te pegar!',\n",
       "  1: 'Flood',\n",
       "  2: ''},\n",
       " {0: 'Tutorial de como se decepcionar (mais) no dia de hoje:\\r\\n\\r\\nPasso 1. clique aqui: http://bit.ly/1zqCpKU\\r\\n\\r\\nPasso 2. decepcione-se.',\n",
       "  1: 'Outro',\n",
       "  2: ''},\n",
       " {0: 'Teste', 1: 'Flood', 2: ''}]"
      ]
     },
     "execution_count": 5,
     "metadata": {},
     "output_type": "execute_result"
    }
   ],
   "source": [
    "pd.DataFrame(raw_reject).to_dict('records')[:10]"
   ]
  },
  {
   "cell_type": "markdown",
   "metadata": {},
   "source": [
    "# Helpers"
   ]
  },
  {
   "cell_type": "code",
   "execution_count": 6,
   "metadata": {
    "collapsed": true
   },
   "outputs": [],
   "source": [
    "def get_data(approved=True, detail=False, clean=True):\n",
    "    \"\"\"Get Data\n",
    "    returns a numpy array of dicts containing spotteds as specified\n",
    "\n",
    "    approved: approved or rejected spotteds\n",
    "    detail: wether or not to return the detailed reject reason\n",
    "    \"\"\"\n",
    "\n",
    "    if approved:\n",
    "        data = raw_approved\n",
    "    else:\n",
    "        data = raw_reject\n",
    "\n",
    "    if approved:\n",
    "        return pd.DataFrame([[x[0], \"aprovado\", x[1]] for x in data], columns=['message', \"reason\", \"suggestion\"])\n",
    "    else:\n",
    "        rejected = pd.DataFrame([[x[0], x[1], x[2]] for x in data], columns=['message', \"reason\", \"suggestion\"])\n",
    "        if clean:\n",
    "            rejected = clean_details(rejected)\n",
    "        if detail:\n",
    "            return rejected\n",
    "        return rejected.replace({'reason': {'^(.*?)$': 'rejeitado'}}, regex=True)\n",
    "\n",
    "\n",
    "def clean_details(df):\n",
    "    \"\"\"Clean Details\n",
    "    merges and removes unwanted columns\n",
    "    \"\"\"\n",
    "    details_rej = [\n",
    "        (\"Ofensivo\", [\"Ofensivo ou Ódio\", \"Bullying individual\"]),\n",
    "        (\"Spam\", [\"Corrente ou spam\", \"Conteúdo comercial\", \"Spam / Propaganda\"]),\n",
    "        (\"Obsceno\", [\"Obsceno ou Assédio\"]),\n",
    "        (\"Assédio\", [False]),\n",
    "        (\"Off-topic\", [False]),\n",
    "        (\"Depressivo\", [False])\n",
    "    ]\n",
    "    res = pd.DataFrame()\n",
    "    for t in details_rej:\n",
    "        for c in t[1]:\n",
    "            if t[0]:\n",
    "                df = df.replace({'reason': {c: t[0]}})\n",
    "        res = res.append(df[df['reason'] == t[0]], ignore_index=True)\n",
    "    return res\n",
    "\n",
    "\n",
    "def rand_reindex(arr):\n",
    "    \"\"\"Random reindex\n",
    "    randomly reindexes an array\n",
    "    \"\"\"\n",
    "\n",
    "    return arr.reindex(np.random.permutation(arr.index))\n",
    "\n",
    "\n",
    "def merge_data(approved, rejected, ratio=1):\n",
    "    \"\"\"Merge data\n",
    "    merges approved and rejected arrays using a ratio to size the approved ones\n",
    "    also reindexes them\n",
    "    \"\"\"\n",
    "\n",
    "    approved = rand_reindex(approved)\n",
    "    approved = approved.iloc[:(round(len(rejected) * ratio))]\n",
    "    return rand_reindex(approved.append(rejected, ignore_index=True))\n",
    "\n",
    "\n",
    "def stop_words():\n",
    "    response = requests.get(\"https://gist.githubusercontent.com/alopes/5358189/raw/2107d809cca6b83ce3d8e04dbd9463283025284f/stopwords.txt\")\n",
    "    return response.text.split()"
   ]
  },
  {
   "cell_type": "code",
   "execution_count": 7,
   "metadata": {
    "collapsed": true
   },
   "outputs": [],
   "source": [
    "rejected = get_data(False)\n",
    "rejected_detail = get_data(False, True)\n",
    "rejected_detail_uncleaned = get_data(False, True, False)\n",
    "approved = get_data()\n",
    "stopwords = stop_words()"
   ]
  },
  {
   "cell_type": "markdown",
   "metadata": {},
   "source": [
    "# The dataset in numbers"
   ]
  },
  {
   "cell_type": "code",
   "execution_count": 8,
   "metadata": {},
   "outputs": [
    {
     "data": {
      "image/png": "[encoded data removed]",
      "text/plain": [
       "<matplotlib.figure.Figure at 0x1181c2c18>"
      ]
     },
     "metadata": {},
     "output_type": "display_data"
    }
   ],
   "source": [
    "plt.bar(range(2), [len(approved), len(rejected)], align='center')\n",
    "plt.xticks(range(2), [\"Aprovado\", \"Reprovado\"], size='large')\n",
    "plt.show()"
   ]
  },
  {
   "cell_type": "code",
   "execution_count": 9,
   "metadata": {
    "collapsed": true
   },
   "outputs": [],
   "source": [
    "reject_options = set(rejected_detail['reason'])\n",
    "reject_numbers = [(x, len(rejected_detail[rejected_detail.reason.isin([x])])) for x in reject_options]\n",
    "\n",
    "reject_options1 = set(rejected_detail_uncleaned['reason'])\n",
    "reject_numbers1 = [(x, len(rejected_detail_uncleaned[rejected_detail_uncleaned.reason.isin([x])])) for x in reject_options1]"
   ]
  },
  {
   "cell_type": "code",
   "execution_count": 10,
   "metadata": {},
   "outputs": [
    {
     "data": {
      "image/png": "[encoded data removed]",
      "text/plain": [
       "<matplotlib.figure.Figure at 0x1182d1470>"
      ]
     },
     "metadata": {},
     "output_type": "display_data"
    },
    {
     "data": {
      "image/png": "[encoded data removed]",
      "text/plain": [
       "<matplotlib.figure.Figure at 0x118290128>"
      ]
     },
     "metadata": {},
     "output_type": "display_data"
    },
    {
     "data": {
      "image/png": "[encoded data removed]",
      "text/plain": [
       "<matplotlib.figure.Figure at 0x118309550>"
      ]
     },
     "metadata": {},
     "output_type": "display_data"
    }
   ],
   "source": [
    "plt.bar(range(len(reject_numbers1)), [x[1] for x in sorted(reject_numbers1, key=lambda x: x[1])], align='center')\n",
    "plt.xticks(range(len(reject_numbers1)), [x[0] for x in sorted(reject_numbers1, key=lambda x: x[1])], size='large', rotation=90)\n",
    "plt.show()\n",
    "plt.bar(range(len(reject_numbers)), [x[1] for x in sorted(reject_numbers, key=lambda x: x[1])], align='center')\n",
    "plt.xticks(range(len(reject_numbers)), [x[0] for x in sorted(reject_numbers, key=lambda x: x[1])], size='large', rotation=30)\n",
    "plt.show()\n",
    "\n",
    "plt.bar(range(2), [len(rejected_detail_uncleaned), len(rejected_detail)], align='center')\n",
    "plt.xticks(range(2), [\"Antes\", \"depois\"], size='large', rotation=0)\n",
    "plt.show()"
   ]
  },
  {
   "cell_type": "code",
   "execution_count": 11,
   "metadata": {},
   "outputs": [
    {
     "name": "stdout",
     "output_type": "stream",
     "text": [
      "           message                                                            \\\n",
      "             count unique                                                top   \n",
      "reason                                                                         \n",
      "Assédio         77     77  Como assim o Ivo sossegou? Acabaram minhas cha...   \n",
      "Depressivo     158    156  Concordo contigo quando diz que vivemos a noss...   \n",
      "Obsceno        153    151  Olá, maravilhosXs!\\r\\n\\r\\nTô aqui pra dizer qu...   \n",
      "Ofensivo       412    408  https://media.giphy.com/media/13wdfW1swTI7GE/g...   \n",
      "Off-topic      546    532  Pessoal, tem algum lugar na unicamp que abre d...   \n",
      "Spam           497    491         Jogo do pontinho da Festa Junina da Feagri   \n",
      "\n",
      "                suggestion                        \n",
      "           freq      count unique       top freq  \n",
      "reason                                            \n",
      "Assédio       1         77      5    Postar   52  \n",
      "Depressivo    2        158      6  Ofensivo   68  \n",
      "Obsceno       2        153      5             44  \n",
      "Ofensivo      2        412      7  Ofensivo  156  \n",
      "Off-topic     2        546      6      Spam  154  \n",
      "Spam          2        497      7      Spam  213  \n"
     ]
    }
   ],
   "source": [
    "print(rejected_detail.groupby('reason').describe())"
   ]
  },
  {
   "cell_type": "markdown",
   "metadata": {},
   "source": [
    "# More numbers\n",
    "\n",
    "lets take a look at the top messages' lengths"
   ]
  },
  {
   "cell_type": "code",
   "execution_count": 12,
   "metadata": {},
   "outputs": [
    {
     "name": "stdout",
     "output_type": "stream",
     "text": [
      "                                                 message     reason  \\\n",
      "11050  [alerta de textao][desabafo]\\r\\nNós nunca fomo...   aprovado   \n",
      "12649  [Guia: Locais para levar a crush em barão gera...   aprovado   \n",
      "17033  Há 9 anos atrás eu conheci você, a garota dos ...  rejeitado   \n",
      "17036  Há 9 anos atrás eu conheci você, a garota dos ...  rejeitado   \n",
      "16855  O MÍNIMO ESFORÇO PARA TRANSAR COM UM CARA - E ...  rejeitado   \n",
      "\n",
      "      suggestion  length  \n",
      "11050   Ofensivo    6480  \n",
      "12649   Ofensivo    6407  \n",
      "17033   Ofensivo    6292  \n",
      "17036   Ofensivo    6204  \n",
      "16855   Ofensivo    4898  \n"
     ]
    }
   ],
   "source": [
    "spotteds = merge_data(approved, rejected, 100)\n",
    "spotteds['length'] = spotteds['message'].map(lambda text: len(text))\n",
    "print(spotteds.sort_values(by='length', ascending=0).head())"
   ]
  },
  {
   "cell_type": "markdown",
   "metadata": {},
   "source": [
    "### What is this super long message?"
   ]
  },
  {
   "cell_type": "code",
   "execution_count": 13,
   "metadata": {},
   "outputs": [
    {
     "name": "stdout",
     "output_type": "stream",
     "text": [
      "[alerta de textao][desabafo]\r\n",
      "Nós nunca fomos amigos, não é?\r\n",
      "Desde o início já eramos diferentes. E me lembro de conversar sobre isso. Você não gostava de mim por eu ser amiga de todo mundo, eu sempre estar com um sorriso no rosto. \"Achava você falsa, ninguém é feliz o tempo todo. Achava você mimada, patricinha, popular. Mas você foi mudando meu pensamento.\" E todos os outros esteriótipos que você me encaixou.\r\n",
      "Mas começamos a conversar, não lembro bem o porquê e você foi vendo que eu não era tão ruim assim.\r\n",
      "Talvez tenha começado a conversar comigo porque viu o quanto suas brincadeiras ridículas (e de todo os nossos colegas de trabalho) estavam me magoando de verdade, mesmo eu sempre me fechando e escondendo tudo o que estava sentindo, por MEDO que pudessem aumentar ainda mais essas babaquices por eu retrucar ou dar \"piti\". Talvez tenha começado a conversar comigo para ter exatamente um motivo para me zoar: \"somos amigos, não? Isso é coisa de quem gosta do outro\"\r\n",
      "Mas eu não me aguentei, explodi, falei tudo que sentia e mais um pouco.\r\n",
      "Você viu que havia passado dos limites há muito tempo nessa história e o quão isso tinha me afetado. Pedi que me ajudasse a fazer os outros pararem também, no fim, apenas você \"parou\" de me humilhar.\r\n",
      "Você se tornou duas pessoas diferentes: aquele cara maravilhoso quando estava apenas comigo, e o monstro quando estávamos com qualquer outra pessoa a mais.\r\n",
      "Talvez aí nesses nossos momentos sozinhos tenha notado que eu sou só mais uma pessoa comum: tenho sim sentimentos. Também choro, dou risada, me desespero, me sinto aliviada, não gosto do meu corpo, me acho gostosa, me acho feia, me acho bonita, também fico triste, também quis e quero sumir do mundo em vários dias. Também me apaixono, também sou vadia todo dia. Também tenho medo, também me sinto corajosa. Mas acima de tudo: tenho muito medo de me sentir sozinha. E você sempre soube disso.\r\n",
      "Talvez aí nossa \"amizade\" cresceu: você virou meu confidente e eu achei que tivesse virado a sua. Um simples desabafo com você e eu vi que você também não era o monstro que minha mente criou. Você era muito mais profundo que apenas aquele cara que se achava o Rei e me tratava como sua boba da corte. Talvez aí eu tenha me enganado em achar que você poderia ser um amigo duradouro, confidente, um ombro amigo, alguém que eu pudesse contar sempre, assim como eu quis e tentei ser para você.\r\n",
      "É... Hoje eu vejo que você escondeu muitos dos seus sentimentos, inclusive aqueles que diziam algo sobre mim. Mas ainda sim, naquela época eu acabei me apaixonando por você e você, por dó ou por pena, tenha passado a gostar de mim mais que como a \"amiga\" que levava todas as brincadeiras sempre numa boa - superficialmente.\r\n",
      "Fomos nos aproximando cada vez mais e me perdi no tempo onde realmente passamos a querer ficar sempre um com o outro. Saímos várias vezes juntos, apenas nós dois, você passou a confiar mais em mim, e quando vi, tínhamos uma relação que ia além dessa \"amizade\".\r\n",
      "Namoramos. Não vou mentir, tivemos tempos difíceis, por atitudes suas e por atitudes minhas. Será que construímos aqui uma amizade que fosse durar a vida inteira? Talvez quando estávamos juntos, pensamos que sim.\r\n",
      "Você me apoiou em vários momentos. Eu te apoiei em vários outros, mas isso que é um namoro, não? Tivemos brigas como qualquer outro casal, tivemos muito amor e carinho, mas isso tudo foi desgastando com o tempo até sobrar.. Isso que temos hoje. E o que é isso? Não sei dizer, será que estou cobrando demais? Ou será que mais uma vez eu acreditei que fosse finalmente ter um amigo que não fosse passageiro?\r\n",
      "Sabe quando que eu percebi que no fundo nossa amizade não era exatamente uma amizade verdadeira, e sim, uma convivência? Quando escondeu todas suas angustias sobre mim e decidiu contar, não somente sobre o que te incomodava, mas sobre intimidades minhas, para os seus verdadeiros confidentes. Quando você me tratou feito um lixo que servia apenas para sexo, quando você mentiu pra mim sobre onde estava, e todos os outros momentos que me deixava angustiada sem saber onde errei e mais ainda por correr atrás e receber ódio em troca. Principalmente quando você brigava comigo dizendo que eu estava exagerando. Sempre exagerando. Aí nem \"amigos\" mais éramos. Apenas namorados. Mesmo eu tentando negar, mesmo eu sempre correndo para os seus braços sobre qualquer coisa, mesmo eu tentando ser o seu apoio, que no fim, era a última opção.\r\n",
      "Percebi que você não confiava em mim (me magoa até hoje o fato de que eu descobri que você conseguiu o que mais queria e NUNCA me contou. Só falou um \"ah é, consegui sim\" quando eu perguntei se era verdade o que tinha acontecido), e eu cada vez mais percebendo que no fundo, não deveria confiar tanto em você também. Tentei parar de falar de sentimentos meus, pois eu sempre era a exagerada em tudo e conseguia a maioria das vezes. Tentava focar em você pelas lutas que você estava tendo, e no fim, eu nunca fui aquela a quem você recorreu para desabafar. E fomos nos afastando. Sentia você cada vez mais longe, mesmo com o corpo ao meu lado.\r\n",
      "Terminamos. Mas tentamos manter a \"amizade\" que disse que tínhamos. \r\n",
      "Mas que amizade é essa que mesmo quando namorávamos, você não me contava de coisas importantes da sua vida? Você não me deixava participar de momentos importantes? De decisões, desabafos? Talvez eu nunca tenha sido sua amiga o suficiente para participar de tudo isso, como aqueles que você falava mal de mim.\r\n",
      "Todos os pequenos detalhes (bons e ruins) ainda estão na minha memória e talvez por isso eu ainda quero correr atrás de você. Manter algum tipo de relação com você, mas de novo você tem me tratado que nem lixo. Mas por que estou exigindo tanto de algo que na real eu nunca tive? Não é agora que nossa amizade vai crescer. Não é agora que vai confiar em mim. Não é agora que eu vou fazer parte desse seu círculo de grandes amizades.\r\n",
      "Eu me sinto mal, por estar perdendo você. Eu me sinto mal, por saber que não estou te perdendo, porque nunca o tive. Eu me sinto mal, porque eu sei que estou correndo no chão atrás de alguém que está voando.\r\n",
      "Nunca fomos amigos de verdade, não é? Tudo surgiu por convivência. Foi obrigado a ver minha cara todos os dias pois trabalhávamos juntos. Evoluiu para o dó. Evoluiu para \"talvez\". Evoluiu para \"namoro\". E agora que acabou, bom, não tem mais nada além de mim sendo disponível para quando e o que você quiser, porque eu ainda me importo. Eu ainda me faço de sua boba da corte.\n"
     ]
    }
   ],
   "source": [
    "print(spotteds.sort_values(by='length', ascending=0).iloc[0]['message'])"
   ]
  },
  {
   "cell_type": "markdown",
   "metadata": {},
   "source": [
    "### What is the difference in approved and rejected?"
   ]
  },
  {
   "cell_type": "code",
   "execution_count": 14,
   "metadata": {},
   "outputs": [
    {
     "data": {
      "text/plain": [
       "array([<matplotlib.axes._subplots.AxesSubplot object at 0x11b98b3c8>,\n",
       "       <matplotlib.axes._subplots.AxesSubplot object at 0x118278a58>], dtype=object)"
      ]
     },
     "execution_count": 14,
     "metadata": {},
     "output_type": "execute_result"
    },
    {
     "data": {
      "image/png": "[encoded data removed]",
      "text/plain": [
       "<matplotlib.figure.Figure at 0x10aeeeb38>"
      ]
     },
     "metadata": {},
     "output_type": "display_data"
    }
   ],
   "source": [
    "spotteds.hist(column='length', by='reason', bins=25)"
   ]
  },
  {
   "cell_type": "markdown",
   "metadata": {},
   "source": [
    "### What else can we learn about them?"
   ]
  },
  {
   "cell_type": "code",
   "execution_count": 15,
   "metadata": {},
   "outputs": [
    {
     "data": {
      "text/html": [
       "<div>\n",
       "<style>\n",
       "    .dataframe thead tr:only-child th {\n",
       "        text-align: right;\n",
       "    }\n",
       "\n",
       "    .dataframe thead th {\n",
       "        text-align: left;\n",
       "    }\n",
       "\n",
       "    .dataframe tbody tr th {\n",
       "        vertical-align: top;\n",
       "    }\n",
       "</style>\n",
       "<table border=\"1\" class=\"dataframe\">\n",
       "  <thead>\n",
       "    <tr>\n",
       "      <th></th>\n",
       "      <th colspan=\"8\" halign=\"left\">length</th>\n",
       "    </tr>\n",
       "    <tr>\n",
       "      <th></th>\n",
       "      <th>count</th>\n",
       "      <th>mean</th>\n",
       "      <th>std</th>\n",
       "      <th>min</th>\n",
       "      <th>25%</th>\n",
       "      <th>50%</th>\n",
       "      <th>75%</th>\n",
       "      <th>max</th>\n",
       "    </tr>\n",
       "    <tr>\n",
       "      <th>reason</th>\n",
       "      <th></th>\n",
       "      <th></th>\n",
       "      <th></th>\n",
       "      <th></th>\n",
       "      <th></th>\n",
       "      <th></th>\n",
       "      <th></th>\n",
       "      <th></th>\n",
       "    </tr>\n",
       "  </thead>\n",
       "  <tbody>\n",
       "    <tr>\n",
       "      <th>aprovado</th>\n",
       "      <td>15212.0</td>\n",
       "      <td>204.949579</td>\n",
       "      <td>274.262243</td>\n",
       "      <td>1.0</td>\n",
       "      <td>80.0</td>\n",
       "      <td>132.0</td>\n",
       "      <td>223.0</td>\n",
       "      <td>6480.0</td>\n",
       "    </tr>\n",
       "    <tr>\n",
       "      <th>rejeitado</th>\n",
       "      <td>1843.0</td>\n",
       "      <td>238.082474</td>\n",
       "      <td>404.885738</td>\n",
       "      <td>1.0</td>\n",
       "      <td>72.0</td>\n",
       "      <td>128.0</td>\n",
       "      <td>240.0</td>\n",
       "      <td>6292.0</td>\n",
       "    </tr>\n",
       "  </tbody>\n",
       "</table>\n",
       "</div>"
      ],
      "text/plain": [
       "            length                                                         \n",
       "             count        mean         std  min   25%    50%    75%     max\n",
       "reason                                                                     \n",
       "aprovado   15212.0  204.949579  274.262243  1.0  80.0  132.0  223.0  6480.0\n",
       "rejeitado   1843.0  238.082474  404.885738  1.0  72.0  128.0  240.0  6292.0"
      ]
     },
     "execution_count": 15,
     "metadata": {},
     "output_type": "execute_result"
    }
   ],
   "source": [
    "spotteds.groupby('reason').describe()"
   ]
  },
  {
   "cell_type": "markdown",
   "metadata": {},
   "source": [
    "Evaluating the reject probability by message length alone is not going to be possible, then, since they are very similar\n",
    "\n",
    "So let's try something else"
   ]
  },
  {
   "cell_type": "markdown",
   "metadata": {},
   "source": [
    "# Spotteds to Vectors\n",
    "\n",
    "Here we'll create a bag of words containing all words and n-grams present on the spotteds."
   ]
  },
  {
   "cell_type": "code",
   "execution_count": 16,
   "metadata": {},
   "outputs": [
    {
     "name": "stdout",
     "output_type": "stream",
     "text": [
      "(3686, 150301)\n"
     ]
    }
   ],
   "source": [
    "spotteds = merge_data(approved, rejected, 1)\n",
    "\n",
    "# First we initialize the vectorizer\n",
    "count_vectorizer = CountVectorizer(strip_accents='ascii', analyzer='word', stop_words=stopwords, ngram_range=(1, 3))\n",
    "\n",
    "# Then we fit and transform it to create our bag of words\n",
    "count_transformer = count_vectorizer.fit(spotteds['message'])\n",
    "bag_o_words = count_transformer.transform(spotteds['message'])\n",
    "\n",
    "print(bag_o_words.shape)"
   ]
  },
  {
   "cell_type": "markdown",
   "metadata": {},
   "source": [
    "### Normalizing our bag\n",
    "\n",
    "In order for us to get better results, its a good idea to normalize and do some term weighting using sklearn's TF-IDF methods"
   ]
  },
  {
   "cell_type": "code",
   "execution_count": 17,
   "metadata": {},
   "outputs": [
    {
     "name": "stdout",
     "output_type": "stream",
     "text": [
      "(3686, 150301)\n"
     ]
    }
   ],
   "source": [
    "tfidf_transformer = TfidfTransformer().fit(bag_o_words)\n",
    "\n",
    "norm_bag_o_words = tfidf_transformer.transform(bag_o_words)\n",
    "\n",
    "print(norm_bag_o_words.shape)"
   ]
  },
  {
   "cell_type": "markdown",
   "metadata": {},
   "source": [
    "# Training our model\n",
    "\n",
    "now that we extracted our features it's time to create and train our model to predict stuff\n",
    "\n",
    "We'll use Naive Bayes for now, but later we'll experiment with some other classification algorithms"
   ]
  },
  {
   "cell_type": "code",
   "execution_count": 18,
   "metadata": {},
   "outputs": [
    {
     "name": "stdout",
     "output_type": "stream",
     "text": [
      "CPU times: user 18.8 ms, sys: 4.81 ms, total: 23.6 ms\n",
      "Wall time: 22.5 ms\n"
     ]
    }
   ],
   "source": [
    "%time approve_predictor = MultinomialNB().fit(norm_bag_o_words, spotteds['reason'])"
   ]
  },
  {
   "cell_type": "markdown",
   "metadata": {},
   "source": [
    "Let's classify some random messages"
   ]
  },
  {
   "cell_type": "code",
   "execution_count": 19,
   "metadata": {},
   "outputs": [
    {
     "name": "stdout",
     "output_type": "stream",
     "text": [
      "Vi que vai ter OPEN SUMIÇO na MED MECX\r\n",
      "ALÔ AAAMEC divulga no evento hahaha\n",
      "predicted: rejeitado\n",
      "expected: rejeitado\n"
     ]
    }
   ],
   "source": [
    "spotted_number = 5\n",
    "single_spotted = tfidf_transformer.transform(count_transformer.transform([spotteds.iloc[spotted_number]['message']]))\n",
    "print(spotteds.iloc[spotted_number]['message'])\n",
    "print('predicted:', approve_predictor.predict(single_spotted)[0])\n",
    "print('expected:', spotteds.iloc[spotted_number]['reason'])"
   ]
  },
  {
   "cell_type": "markdown",
   "metadata": {},
   "source": [
    "Success!\n",
    "\n",
    "Now let's generate predictions for all spotteds"
   ]
  },
  {
   "cell_type": "code",
   "execution_count": 20,
   "metadata": {},
   "outputs": [
    {
     "name": "stdout",
     "output_type": "stream",
     "text": [
      "['aprovado' 'rejeitado' 'rejeitado' ..., 'aprovado' 'aprovado' 'aprovado']\n"
     ]
    }
   ],
   "source": [
    "all_predictions = approve_predictor.predict(norm_bag_o_words)\n",
    "print(all_predictions)"
   ]
  },
  {
   "cell_type": "markdown",
   "metadata": {},
   "source": [
    "Let's evaluate it a little bit"
   ]
  },
  {
   "cell_type": "code",
   "execution_count": 21,
   "metadata": {},
   "outputs": [
    {
     "name": "stdout",
     "output_type": "stream",
     "text": [
      "accuracy 0.989690721649\n",
      "confusion matrix\n",
      " [[1830   13]\n",
      " [  25 1818]]\n",
      "\n"
     ]
    },
    {
     "data": {
      "text/plain": [
       "<matplotlib.text.Text at 0x11d51d7b8>"
      ]
     },
     "execution_count": 21,
     "metadata": {},
     "output_type": "execute_result"
    },
    {
     "data": {
      "image/png": "[encoded data removed]",
      "text/plain": [
       "<matplotlib.figure.Figure at 0x11b9cbac8>"
      ]
     },
     "metadata": {},
     "output_type": "display_data"
    }
   ],
   "source": [
    "print('accuracy', accuracy_score(spotteds['reason'], all_predictions))\n",
    "print('confusion matrix\\n', confusion_matrix(spotteds['reason'], all_predictions))\n",
    "print()\n",
    "plt.matshow(confusion_matrix(spotteds['reason'], all_predictions), cmap=plt.cm.binary, interpolation='nearest')\n",
    "plt.title('confusion matrix')\n",
    "plt.colorbar()\n",
    "plt.ylabel('expected label')\n",
    "plt.xlabel('predicted label')"
   ]
  },
  {
   "cell_type": "code",
   "execution_count": 22,
   "metadata": {},
   "outputs": [
    {
     "name": "stdout",
     "output_type": "stream",
     "text": [
      "             precision    recall  f1-score   support\n",
      "\n",
      "   aprovado       0.99      0.99      0.99      1843\n",
      "  rejeitado       0.99      0.99      0.99      1843\n",
      "\n",
      "avg / total       0.99      0.99      0.99      3686\n",
      "\n"
     ]
    }
   ],
   "source": [
    "print(classification_report(spotteds['reason'], all_predictions))"
   ]
  },
  {
   "cell_type": "markdown",
   "metadata": {},
   "source": [
    "# Testing our model\n",
    "\n",
    "Now that we have our model ready, let's test it a little bit\n",
    "\n",
    "First we create training and testing sets"
   ]
  },
  {
   "cell_type": "code",
   "execution_count": 23,
   "metadata": {
    "collapsed": true
   },
   "outputs": [],
   "source": [
    "msg_train, msg_test, label_train, label_test = train_test_split(spotteds['message'], spotteds['reason'], test_size=0.2)"
   ]
  },
  {
   "cell_type": "markdown",
   "metadata": {},
   "source": [
    "Then we recap our pipeline"
   ]
  },
  {
   "cell_type": "code",
   "execution_count": 24,
   "metadata": {
    "collapsed": true
   },
   "outputs": [],
   "source": [
    "pipeline = Pipeline([\n",
    "    ('vectorizer', CountVectorizer(strip_accents='unicode', analyzer='word', stop_words=stopwords, ngram_range=(1, 3))),\n",
    "    ('tfidf', TfidfTransformer(use_idf=True)),\n",
    "    ('classifier', MultinomialNB()),\n",
    "])"
   ]
  },
  {
   "cell_type": "markdown",
   "metadata": {},
   "source": [
    "Then we test it"
   ]
  },
  {
   "cell_type": "code",
   "execution_count": 25,
   "metadata": {},
   "outputs": [
    {
     "name": "stdout",
     "output_type": "stream",
     "text": [
      "[ 0.70945946  0.69491525  0.72881356  0.70169492  0.72881356  0.70847458\n",
      "  0.72542373  0.72108844  0.70068027  0.71428571]\n",
      "\n",
      "0.713364947445 0.0116614059578\n",
      "             precision    recall  f1-score   support\n",
      "\n",
      "   aprovado       0.73      0.66      0.69       366\n",
      "  rejeitado       0.69      0.76      0.72       372\n",
      "\n",
      "avg / total       0.71      0.71      0.71       738\n",
      "\n"
     ]
    },
    {
     "data": {
      "image/png": "[encoded data removed]",
      "text/plain": [
       "<matplotlib.figure.Figure at 0x1182c0ac8>"
      ]
     },
     "metadata": {},
     "output_type": "display_data"
    }
   ],
   "source": [
    "scores = cross_val_score(pipeline,\n",
    "                         msg_train,\n",
    "                         label_train,\n",
    "                         cv=10,\n",
    "                         scoring='accuracy',\n",
    "                         n_jobs=-1,\n",
    "                         )\n",
    "print(scores)\n",
    "print()\n",
    "print(scores.mean(), scores.std())\n",
    "\n",
    "pipeline.fit(msg_train, label_train)\n",
    "plt.matshow(confusion_matrix(pipeline.predict(msg_test), label_test, [\"aprovado\", \"rejeitado\"]), cmap=plt.cm.binary, interpolation='nearest')\n",
    "plt.colorbar()\n",
    "plt.ylabel('expected label')\n",
    "plt.xlabel('predicted label')\n",
    "plt.xticks([0, 1],[\"Aprovado\", \"Reprovado\"])\n",
    "plt.yticks([0, 1],[\"Aprovado\", \"Reprovado\"])\n",
    "\n",
    "print(classification_report(label_test, pipeline.predict(msg_test)))"
   ]
  },
  {
   "cell_type": "markdown",
   "metadata": {},
   "source": [
    "## Bayesian conditional certainty\n",
    "We can also calculate the probability that a spotted would've been posted given that we got a certain predicted value from our classifier.\n",
    "\n",
    "To do this, we use bayes theorem so that:\n",
    "\n",
    "P(Would've been posted | We predicted > x) = P(We predicted > x | Was posted) * P(Was posted) / P(We predicted > x)\n",
    "\n",
    "Where:\n",
    "\n",
    "P(We predicted > x | Was posted) => Probability that we predicted > x given that it was posted\n",
    "\n",
    "P(Was posted) => Probability that the spotted was posted\n",
    "\n",
    "P(We predicted > x) => Probability that we predicted > x"
   ]
  },
  {
   "cell_type": "code",
   "execution_count": 26,
   "metadata": {},
   "outputs": [
    {
     "name": "stdout",
     "output_type": "stream",
     "text": [
      "If a spotted receives 70.0% or more as a 'approve' score it is 95.45454545454545% likely to be a valid spotted\n",
      "Example:  [(array([ 0.74940639,  0.25059361]), 'aprovado', 'Moça loira que estava falando umas coisas de ballet com uma amiga morena, quem é tu? Passando pelo IB quinta'), (array([ 0.80670708,  0.19329292]), 'aprovado', 'Vítor Orsolini... Cada dia mais delício!\\r\\nTa solteiro???')]\n"
     ]
    }
   ],
   "source": [
    "def conditional_certainty(x, predicted):\n",
    "    # Function that takes x and a list containing all predicted values\n",
    "    # predicted == [([predicted_approved_perc, predicted_rejected_perc], label), ...]\n",
    "    n_posted = len(list(filter(lambda y: y[1] == \"aprovado\", predicted)))\n",
    "    n_predictedBiggerThanX = len(list(filter(lambda y: y[0][0] > x, predicted)))\n",
    "    P_predictedBiggerThanX_given_that_was_posted = len(list(filter(lambda y: y[0][0] > x and y[1] == \"aprovado\", predicted))) / n_posted\n",
    "    P_Would_be_posted_given_that_predictedBiggerThanX = P_predictedBiggerThanX_given_that_was_posted * n_posted / n_predictedBiggerThanX\n",
    "    return P_Would_be_posted_given_that_predictedBiggerThanX\n",
    "\n",
    "pipeline.fit(msg_train, label_train)\n",
    "\n",
    "# Generate predicted list with predictions and labels\n",
    "predicted = list(zip(pipeline.predict_proba(msg_test), label_test, msg_test))\n",
    "\n",
    "# X value to use in our bayes formula\n",
    "x = 0.7\n",
    "\n",
    "print(\"If a spotted receives {}% or more as a 'approve' score it is {}% likely to be a valid spotted\".format(x * 100, conditional_certainty(x, predicted) * 100))\n",
    "print(\"Example: \", list(filter(lambda y: y[0][0] > x and y[1] == \"aprovado\", predicted))[:2])"
   ]
  },
  {
   "cell_type": "code",
   "execution_count": 27,
   "metadata": {},
   "outputs": [
    {
     "data": {
      "text/plain": [
       "<matplotlib.text.Text at 0x11c80c5c0>"
      ]
     },
     "execution_count": 27,
     "metadata": {},
     "output_type": "execute_result"
    },
    {
     "data": {
      "image/png": "[encoded data removed]",
      "text/plain": [
       "<matplotlib.figure.Figure at 0x11c5f0ef0>"
      ]
     },
     "metadata": {},
     "output_type": "display_data"
    }
   ],
   "source": [
    "l = [[x, z] for (x, z) in [[conditional_certainty(y / 10, predicted) * 100, y / 10] for y in range(2, 9)]]\n",
    "plt.plot(list(map(lambda x: x[1], l)), list(map(lambda x: x[0], l)))\n",
    "plt.xlabel(\"Predicted Value\")\n",
    "plt.ylabel(\"Conditional probability\")\n",
    "plt.title(\"Conditional probability for approved spotteds\")"
   ]
  },
  {
   "cell_type": "markdown",
   "metadata": {},
   "source": [
    "Similarly:"
   ]
  },
  {
   "cell_type": "code",
   "execution_count": 28,
   "metadata": {},
   "outputs": [
    {
     "name": "stdout",
     "output_type": "stream",
     "text": [
      "If a spotted receives 30.0% or less as a 'reject' score it is 90.38461538461539% likely to be an invalid spotted\n",
      "Example:  [(array([ 0.28924345,  0.71075655]), 'rejeitado', 'Esse spotted vai pras pessoas que moram em kitnet, saem ao MESMO TEMPO que os vizinhos, vão de carro pra Unicamp e NAO oferecem carona! Sejam mais solidários galera!'), (array([ 0.24928164,  0.75071836]), 'rejeitado', 'Moça do #32453 e para os \"Garanhões\" que comentaram com seu marketing. Mostrem pros seus boys e pras minas.\\r\\nIndico fortemente para ambos esse canal:\\r\\nhttps://www.youtube.com/user/sensualisemoiTV\\r\\n\\r\\nDialogo é sempre bem vindo.\\r\\nUtilidade pública, usem , abusem e gozem.')]\n"
     ]
    }
   ],
   "source": [
    "def conditional_certainty2(x, predicted):\n",
    "    # Function that takes x and a list containing all predicted values\n",
    "    # predicted == [([predicted_approved_perc, predicted_rejected_perc], label), ...]\n",
    "    n_rejected = len(list(filter(lambda y: y[1] == \"rejeitado\", predicted)))\n",
    "    n_predictedLessThanX = len(list(filter(lambda y: y[0][0] < x, predicted)))\n",
    "    P_predictedLessThanX_given_that_was_rejected = len(list(filter(lambda y: y[0][0] < x and y[1] == \"rejeitado\", predicted))) / n_rejected\n",
    "    P_Would_be_rejected_given_that_predictedLessThanX = P_predictedLessThanX_given_that_was_rejected * n_rejected / n_predictedLessThanX\n",
    "    return P_Would_be_rejected_given_that_predictedLessThanX\n",
    "\n",
    "x = 0.3\n",
    "\n",
    "print(\"If a spotted receives {}% or less as a 'reject' score it is {}% likely to be an invalid spotted\".format(x * 100, conditional_certainty2(x, predicted) * 100))\n",
    "print(\"Example: \", list(filter(lambda y: y[0][0] < x and y[1] == \"rejeitado\", predicted))[:2])"
   ]
  },
  {
   "cell_type": "code",
   "execution_count": 30,
   "metadata": {},
   "outputs": [
    {
     "data": {
      "text/plain": [
       "<matplotlib.text.Text at 0x11cac09b0>"
      ]
     },
     "execution_count": 30,
     "metadata": {},
     "output_type": "execute_result"
    },
    {
     "data": {
      "image/png": "[encoded data removed]",
      "text/plain": [
       "<matplotlib.figure.Figure at 0x11c961668>"
      ]
     },
     "metadata": {},
     "output_type": "display_data"
    }
   ],
   "source": [
    "l = [[x, z] for (x, z) in [[conditional_certainty2(y / 10, predicted) * 100, y / 10] for y in range(2, 10)]]\n",
    "plt.plot(list(map(lambda x: x[1], l)), list(map(lambda x: x[0], l)))\n",
    "plt.xlabel(\"Predicted Value\")\n",
    "plt.ylabel(\"Conditional probability\")\n",
    "plt.title(\"Conditional probability for rejected spotteds\")"
   ]
  },
  {
   "cell_type": "markdown",
   "metadata": {},
   "source": [
    "This is useful because it allows us to only approve/reject spotteds automatically if they match a specific threshold"
   ]
  },
  {
   "cell_type": "markdown",
   "metadata": {},
   "source": [
    "# Plotting learning curves\n",
    "\n",
    "Another nice thing that we can do is generate some learning curves to see how our model changes over time"
   ]
  },
  {
   "cell_type": "code",
   "execution_count": 31,
   "metadata": {
    "collapsed": true
   },
   "outputs": [],
   "source": [
    "def plot_learning_curve(estimator, title, X, y, ylim=None, cv=None,\n",
    "                        n_jobs=-1, train_sizes=np.linspace(.1, 1.0, 5)):\n",
    "    \"\"\"\n",
    "    Generate a simple plot of the test and traning learning curve.\n",
    "\n",
    "    Parameters\n",
    "    ----------\n",
    "    estimator : object type that implements the \"fit\" and \"predict\" methods\n",
    "        An object of that type which is cloned for each validation.\n",
    "\n",
    "    title : string\n",
    "        Title for the chart.\n",
    "\n",
    "    X : array-like, shape (n_samples, n_features)\n",
    "        Training vector, where n_samples is the number of samples and\n",
    "        n_features is the number of features.\n",
    "\n",
    "    y : array-like, shape (n_samples) or (n_samples, n_features), optional\n",
    "        Target relative to X for classification or regression;\n",
    "        None for unsupervised learning.\n",
    "\n",
    "    ylim : tuple, shape (ymin, ymax), optional\n",
    "        Defines minimum and maximum yvalues plotted.\n",
    "\n",
    "    cv : integer, cross-validation generator, optional\n",
    "        If an integer is passed, it is the number of folds (defaults to 3).\n",
    "        Specific cross-validation objects can be passed, see\n",
    "        sklearn.cross_validation module for the list of possible objects\n",
    "\n",
    "    n_jobs : integer, optional\n",
    "        Number of jobs to run in parallel (default 1).\n",
    "    \"\"\"\n",
    "    plt.figure()\n",
    "    plt.title(title)\n",
    "    if ylim is not None:\n",
    "        plt.ylim(*ylim)\n",
    "    plt.xlabel(\"Training examples\")\n",
    "    plt.ylabel(\"Score\")\n",
    "    train_sizes, train_scores, test_scores = learning_curve(\n",
    "        estimator, X, y, cv=cv, n_jobs=n_jobs, train_sizes=train_sizes)\n",
    "    train_scores_mean = np.mean(train_scores, axis=1)\n",
    "    train_scores_std = np.std(train_scores, axis=1)\n",
    "    test_scores_mean = np.mean(test_scores, axis=1)\n",
    "    test_scores_std = np.std(test_scores, axis=1)\n",
    "    plt.grid()\n",
    "\n",
    "    plt.fill_between(train_sizes, train_scores_mean - train_scores_std,\n",
    "                     train_scores_mean + train_scores_std, alpha=0.1,\n",
    "                     color=\"r\")\n",
    "    plt.fill_between(train_sizes, test_scores_mean - test_scores_std,\n",
    "                     test_scores_mean + test_scores_std, alpha=0.1, color=\"b\")\n",
    "    plt.plot(train_sizes, train_scores_mean, 'o-', color=\"r\",\n",
    "             label=\"Training score\")\n",
    "    plt.plot(train_sizes, test_scores_mean, 'o-', color=\"b\",\n",
    "             label=\"Cross-validation score\")\n",
    "\n",
    "    plt.legend(loc=\"best\")\n",
    "    return plt"
   ]
  },
  {
   "cell_type": "code",
   "execution_count": 32,
   "metadata": {},
   "outputs": [
    {
     "name": "stdout",
     "output_type": "stream",
     "text": [
      "CPU times: user 294 ms, sys: 84.8 ms, total: 379 ms\n",
      "Wall time: 5.64 s\n"
     ]
    },
    {
     "data": {
      "text/plain": [
       "<module 'matplotlib.pyplot' from '/Users/Maronato/anaconda/lib/python3.5/site-packages/matplotlib/pyplot.py'>"
      ]
     },
     "execution_count": 32,
     "metadata": {},
     "output_type": "execute_result"
    },
    {
     "data": {
      "image/png": "[encoded data removed]",
      "text/plain": [
       "<matplotlib.figure.Figure at 0x11c6a56d8>"
      ]
     },
     "metadata": {},
     "output_type": "display_data"
    }
   ],
   "source": [
    "%time plot_learning_curve(pipeline, \"accuracy vs. training set size\", msg_train, label_train, cv=5)"
   ]
  },
  {
   "cell_type": "markdown",
   "metadata": {},
   "source": [
    "This shows us that we still have a lot to fix in our dataset, but the more data we collect, the better our predictions may become.\n",
    "\n",
    "But what if our pipeline is not ideal? We can evaluate it by doing a grid search on various possible parameters.\n",
    "\n",
    "The code below will try every permutation of pipeline parameter available and print the best performing one"
   ]
  },
  {
   "cell_type": "code",
   "execution_count": 33,
   "metadata": {},
   "outputs": [
    {
     "name": "stdout",
     "output_type": "stream",
     "text": [
      "CPU times: user 4.59 s, sys: 701 ms, total: 5.29 s\n",
      "Wall time: 1min 56s\n",
      "mean: 0.71303, std: 0.00631, params: {'vectorizer__analyzer': 'word', 'vectorizer__ngram_range': (1, 3), 'vectorizer__strip_accents': None, 'vectorizer__stop_words': None, 'tfidf__use_idf': True}\n"
     ]
    }
   ],
   "source": [
    "params = {\n",
    "    'tfidf__use_idf': (True, False),\n",
    "    'vectorizer__analyzer': ('word', 'char', 'char_wb'),\n",
    "    'vectorizer__stop_words': (stopwords, None),\n",
    "    'vectorizer__ngram_range': ((1, 1), (1, 2), (1, 3)),\n",
    "    'vectorizer__strip_accents': ('ascii', 'unicode', None),\n",
    "}\n",
    "\n",
    "grid = GridSearchCV(\n",
    "    pipeline,  # pipeline from above\n",
    "    params,  # parameters to tune via cross validation\n",
    "    refit=True,  # fit using all available data at the end, on the best found param combination\n",
    "    n_jobs=-1,  # number of cores to use for parallelization; -1 for \"all cores\"\n",
    "    scoring='accuracy',  # what score are we optimizing?\n",
    "    cv=StratifiedKFold(label_train, n_folds=5),  # what type of cross validation to use\n",
    ")\n",
    "\n",
    "if check_best_params:\n",
    "    %time nb_detector = grid.fit(msg_train, label_train)\n",
    "    print(max(nb_detector.grid_scores_, key=lambda x:x[1]))\n",
    "else:\n",
    "    print(\"Skipped\")"
   ]
  },
  {
   "cell_type": "markdown",
   "metadata": {},
   "source": [
    "Remeber, tho, that here we are only predicting if a spotted is to be approved or rejected.\n",
    "\n",
    "We also have data to predict *why* said spotted will be rejected, so let us put that to use\n",
    "\n",
    "# Predicting Reasons\n",
    "\n",
    "predicting reasons should be very straightfoward and a lot of our previous code can be reused\n",
    "\n",
    "We start by creating another bag of words"
   ]
  },
  {
   "cell_type": "code",
   "execution_count": 34,
   "metadata": {},
   "outputs": [
    {
     "name": "stdout",
     "output_type": "stream",
     "text": [
      "(1843, 84245)\n"
     ]
    }
   ],
   "source": [
    "# Since we are not using dataframes we need to create a list of words\n",
    "rejected_detail = rand_reindex(rejected_detail)\n",
    "\n",
    "# Then we fit and transform it to create our bag of words\n",
    "rej_count_transformer = count_vectorizer.fit(rejected_detail['message'])\n",
    "rej_bag_o_words = count_transformer.transform(rejected_detail['message'])\n",
    "\n",
    "print(rej_bag_o_words.shape)"
   ]
  },
  {
   "cell_type": "code",
   "execution_count": 35,
   "metadata": {},
   "outputs": [
    {
     "name": "stdout",
     "output_type": "stream",
     "text": [
      "(1843, 84245)\n"
     ]
    }
   ],
   "source": [
    "rej_tfidf_transformer = TfidfTransformer().fit(rej_bag_o_words)\n",
    "\n",
    "rej_norm_bag_o_words = rej_tfidf_transformer.transform(rej_bag_o_words)\n",
    "\n",
    "print(rej_norm_bag_o_words.shape)"
   ]
  },
  {
   "cell_type": "code",
   "execution_count": 36,
   "metadata": {},
   "outputs": [
    {
     "name": "stdout",
     "output_type": "stream",
     "text": [
      "CPU times: user 20.1 ms, sys: 7.11 ms, total: 27.2 ms\n",
      "Wall time: 26.4 ms\n"
     ]
    }
   ],
   "source": [
    "%time reason_predictor = MultinomialNB().fit(rej_norm_bag_o_words, rejected_detail['reason'])"
   ]
  },
  {
   "cell_type": "code",
   "execution_count": 37,
   "metadata": {},
   "outputs": [
    {
     "name": "stdout",
     "output_type": "stream",
     "text": [
      "['Off-topic' 'Off-topic' 'Ofensivo' 'Spam' 'Ofensivo' 'Off-topic' 'Spam'\n",
      " 'Spam' 'Off-topic' 'Off-topic']\n"
     ]
    }
   ],
   "source": [
    "rej_predictions = reason_predictor.predict(rej_norm_bag_o_words)\n",
    "print(rej_predictions[:10])"
   ]
  },
  {
   "cell_type": "code",
   "execution_count": 38,
   "metadata": {},
   "outputs": [
    {
     "name": "stdout",
     "output_type": "stream",
     "text": [
      "accuracy 0.798155181769\n",
      "confusion matrix\n",
      " [[  0   0   0  15  48  14]\n",
      " [  0  21   0   7 118  12]\n",
      " [  0   0  10   3 127  13]\n",
      " [  0   0   0 409   3   0]\n",
      " [  0   0   0   0 541   5]\n",
      " [  0   0   0   0   7 490]]\n",
      "\n"
     ]
    },
    {
     "data": {
      "text/plain": [
       "<matplotlib.text.Text at 0x11d3b8fd0>"
      ]
     },
     "execution_count": 38,
     "metadata": {},
     "output_type": "execute_result"
    },
    {
     "data": {
      "image/png": "[encoded data removed]",
      "text/plain": [
       "<matplotlib.figure.Figure at 0x11820cf98>"
      ]
     },
     "metadata": {},
     "output_type": "display_data"
    }
   ],
   "source": [
    "print('accuracy', accuracy_score(rejected_detail['reason'], rej_predictions))\n",
    "print('confusion matrix\\n', confusion_matrix(rejected_detail['reason'], rej_predictions))\n",
    "print()\n",
    "plt.matshow(confusion_matrix(rejected_detail['reason'], rej_predictions), cmap=plt.cm.binary, interpolation='nearest')\n",
    "plt.title('confusion matrix')\n",
    "plt.colorbar()\n",
    "plt.ylabel('expected label')\n",
    "plt.xlabel('predicted label')"
   ]
  },
  {
   "cell_type": "code",
   "execution_count": 39,
   "metadata": {},
   "outputs": [
    {
     "name": "stdout",
     "output_type": "stream",
     "text": [
      "             precision    recall  f1-score   support\n",
      "\n",
      "    Assédio       0.00      0.00      0.00        77\n",
      " Depressivo       1.00      0.13      0.23       158\n",
      "    Obsceno       1.00      0.07      0.12       153\n",
      "   Ofensivo       0.94      0.99      0.97       412\n",
      "  Off-topic       0.64      0.99      0.78       546\n",
      "       Spam       0.92      0.99      0.95       497\n",
      "\n",
      "avg / total       0.82      0.80      0.73      1843\n",
      "\n"
     ]
    },
    {
     "name": "stderr",
     "output_type": "stream",
     "text": [
      "/Users/Maronato/anaconda/lib/python3.5/site-packages/sklearn/metrics/classification.py:1113: UndefinedMetricWarning: Precision and F-score are ill-defined and being set to 0.0 in labels with no predicted samples.\n",
      "  'precision', 'predicted', average, warn_for)\n"
     ]
    }
   ],
   "source": [
    "print(classification_report(rejected_detail['reason'], rej_predictions))"
   ]
  },
  {
   "cell_type": "code",
   "execution_count": 40,
   "metadata": {
    "collapsed": true
   },
   "outputs": [],
   "source": [
    "msg_train, msg_test, label_train, label_test = train_test_split(rejected_detail['message'], rejected_detail['reason'], test_size=0.2)"
   ]
  },
  {
   "cell_type": "code",
   "execution_count": 41,
   "metadata": {},
   "outputs": [
    {
     "name": "stdout",
     "output_type": "stream",
     "text": [
      "[ 0.37333333  0.47333333  0.44594595  0.41891892  0.39864865  0.4109589\n",
      "  0.45890411  0.39726027  0.45890411  0.47260274]\n",
      "\n",
      "0.430881031717 0.0337067337918\n"
     ]
    }
   ],
   "source": [
    "scores = cross_val_score(pipeline,\n",
    "                         msg_train,\n",
    "                         label_train,\n",
    "                         cv=10,\n",
    "                         scoring='accuracy',\n",
    "                         n_jobs=-1,\n",
    "                         )\n",
    "print(scores)\n",
    "print()\n",
    "print(scores.mean(), scores.std())"
   ]
  },
  {
   "cell_type": "code",
   "execution_count": 42,
   "metadata": {},
   "outputs": [
    {
     "name": "stdout",
     "output_type": "stream",
     "text": [
      "CPU times: user 411 ms, sys: 88.4 ms, total: 500 ms\n",
      "Wall time: 5.56 s\n"
     ]
    },
    {
     "data": {
      "text/plain": [
       "<module 'matplotlib.pyplot' from '/Users/Maronato/anaconda/lib/python3.5/site-packages/matplotlib/pyplot.py'>"
      ]
     },
     "execution_count": 42,
     "metadata": {},
     "output_type": "execute_result"
    },
    {
     "data": {
      "image/png": "[encoded data removed]",
      "text/plain": [
       "<matplotlib.figure.Figure at 0x11c1f50f0>"
      ]
     },
     "metadata": {},
     "output_type": "display_data"
    }
   ],
   "source": [
    "%time plot_learning_curve(pipeline, \"accuracy vs. training set size\", msg_train, label_train, cv=10)"
   ]
  },
  {
   "cell_type": "markdown",
   "metadata": {},
   "source": [
    "As you can see, our prediction is pretty bad. It's a lot better than luck, anyway, and our dataset is pretty lacking.\n",
    "\n",
    "But we can try more. Let's try\n",
    "\n",
    "# SVMs\n",
    "\n",
    "SVMs are another option that we can try. Let's jump to the fun part and evaluate the best possible parameters and check how they perform when compared to NB"
   ]
  },
  {
   "cell_type": "code",
   "execution_count": 43,
   "metadata": {},
   "outputs": [
    {
     "name": "stdout",
     "output_type": "stream",
     "text": [
      "CPU times: user 3.83 s, sys: 182 ms, total: 4.01 s\n",
      "Wall time: 38.5 s\n",
      "mean: 0.70896, std: 0.01671, params: {'classifier__C': 1, 'classifier__kernel': 'linear'}\n"
     ]
    }
   ],
   "source": [
    "# Generate new training and testing sets\n",
    "msg_train, msg_test, label_train, label_test = train_test_split(spotteds['message'], spotteds['reason'], test_size=0.2)\n",
    "\n",
    "pipeline_svm = Pipeline([\n",
    "    ('vectorizer', CountVectorizer(strip_accents='ascii', lowercase=False, analyzer='word', stop_words=stopwords, ngram_range=(1, 3))),\n",
    "    ('tfidf', TfidfTransformer(use_idf=False)),\n",
    "    ('classifier', SVC(C=1, kernel='linear')),\n",
    "])\n",
    "\n",
    "# pipeline parameters to automatically explore and tune\n",
    "param_svm = [\n",
    "  {'classifier__C': [1, 10, 100, 1000], 'classifier__kernel': ['linear']},\n",
    "  {'classifier__C': [1, 10, 100, 1000], 'classifier__gamma': [0.001, 0.0001], 'classifier__kernel': ['rbf']},\n",
    "]\n",
    "\n",
    "grid_svm = GridSearchCV(\n",
    "    pipeline_svm,  # pipeline from above\n",
    "    param_grid=param_svm,  # parameters to tune via cross validation\n",
    "    refit=True,  # fit using all data, on the best detected classifier\n",
    "    n_jobs=-1,  # number of cores to use for parallelization; -1 for \"all cores\"\n",
    "    scoring='accuracy',  # what score are we optimizing?\n",
    "    cv=StratifiedKFold(label_train, n_folds=5),  # what type of cross validation to use\n",
    ")\n",
    "\n",
    "\n",
    "%time svm_detector = grid_svm.fit(msg_train, label_train)\n",
    "print(max(svm_detector.grid_scores_, key=lambda x:x[1]))"
   ]
  },
  {
   "cell_type": "code",
   "execution_count": 44,
   "metadata": {},
   "outputs": [
    {
     "name": "stdout",
     "output_type": "stream",
     "text": [
      "accuracy 0.689701897019\n",
      "confusion matrix\n",
      " [[252 121]\n",
      " [108 257]]\n",
      "\n"
     ]
    },
    {
     "data": {
      "text/plain": [
       "<matplotlib.text.Text at 0x11e6216d8>"
      ]
     },
     "execution_count": 44,
     "metadata": {},
     "output_type": "execute_result"
    },
    {
     "data": {
      "image/png": "[encoded data removed]",
      "text/plain": [
       "<matplotlib.figure.Figure at 0x11bf4ee80>"
      ]
     },
     "metadata": {},
     "output_type": "display_data"
    }
   ],
   "source": [
    "svm_predictions = svm_detector.predict(msg_test)\n",
    "print('accuracy', accuracy_score(label_test, svm_predictions))\n",
    "print('confusion matrix\\n', confusion_matrix(label_test, svm_predictions))\n",
    "print()\n",
    "plt.matshow(confusion_matrix(label_test, svm_predictions), cmap=plt.cm.binary, interpolation='nearest')\n",
    "plt.title('confusion matrix')\n",
    "plt.colorbar()\n",
    "plt.ylabel('expected label')\n",
    "plt.xlabel('predicted label')"
   ]
  },
  {
   "cell_type": "markdown",
   "metadata": {},
   "source": [
    "A little better, huh?\n",
    "\n",
    "Maybe if we combine the two together and then create multiple layers of them both, and maybe if we iteratively train vectors with other parameters and input them into our _network_\n",
    "\n",
    "uh! uh! Maybe if we create a custom _tokenizer_ so that 'vc' and 'você' are tokenized as one! That ought to yield better results, right?\n",
    "\n",
    "# Further analysis\n",
    "\n",
    "Our models are rather ok, but we can make them better. Main focus of development are:\n",
    "\n",
    "- Custom Tokenizer\n",
    "- Clean dataset\n",
    "- Explore other models\n",
    "- Explore neural nets"
   ]
  }
 ],
 "metadata": {
  "anaconda-cloud": {},
  "kernelspec": {
   "display_name": "Python [conda root]",
   "language": "python",
   "name": "conda-root-py"
  },
  "language_info": {
   "codemirror_mode": {
    "name": "ipython",
    "version": 3
   },
   "file_extension": ".py",
   "mimetype": "text/x-python",
   "name": "python",
   "nbconvert_exporter": "python",
   "pygments_lexer": "ipython3",
   "version": "3.5.3"
  }
 },
 "nbformat": 4,
 "nbformat_minor": 1
}
