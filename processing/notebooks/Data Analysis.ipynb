{
 "cells": [
  {
   "cell_type": "code",
   "execution_count": 1,
   "metadata": {
    "collapsed": false
   },
   "outputs": [],
   "source": [
    "%matplotlib inline\n",
    "import psycopg2\n",
    "import urllib.parse as urlparse\n",
    "import pandas as pd\n",
    "import numpy as np\n",
    "import matplotlib.pyplot as plt\n",
    "from sklearn.feature_extraction.text import CountVectorizer\n",
    "from sklearn.naive_bayes import MultinomialNB\n",
    "from sklearn.pipeline import Pipeline\n",
    "from sklearn.cross_validation import KFold\n",
    "from sklearn.metrics import confusion_matrix, f1_score, accuracy_score, classification_report\n",
    "from sklearn.cross_validation import StratifiedKFold, cross_val_score, train_test_split \n",
    "import requests\n",
    "import re\n",
    "from nltk.tokenize import RegexpTokenizer\n",
    "from sklearn.feature_extraction.text import TfidfTransformer\n",
    "from sklearn.base import TransformerMixin\n",
    "from sklearn.learning_curve import learning_curve\n",
    "from sklearn.grid_search import GridSearchCV\n",
    "from sklearn.svm import SVC, LinearSVC"
   ]
  },
  {
   "cell_type": "code",
   "execution_count": 2,
   "metadata": {
    "collapsed": true
   },
   "outputs": [],
   "source": [
    "check_best_params = True"
   ]
  },
  {
   "cell_type": "markdown",
   "metadata": {},
   "source": [
    "# Connecting to the database"
   ]
  },
  {
   "cell_type": "code",
   "execution_count": 3,
   "metadata": {
    "collapsed": false
   },
   "outputs": [],
   "source": [
    "postgres_url = \"\" # Hidden\n",
    "\n",
    "url = urlparse.urlparse(postgres_url)\n",
    "dbname = url.path[1:]\n",
    "user = url.username\n",
    "password = url.password\n",
    "host = url.hostname\n",
    "port = url.port\n",
    "psql = psycopg2.connect(\n",
    "            dbname=dbname,\n",
    "            user=user,\n",
    "            password=password,\n",
    "            host=host,\n",
    "            port=port,\n",
    "            sslmode='require'\n",
    "            )\n",
    "cursor = psql.cursor()"
   ]
  },
  {
   "cell_type": "markdown",
   "metadata": {
    "collapsed": false
   },
   "source": [
    "# Loading tables"
   ]
  },
  {
   "cell_type": "code",
   "execution_count": 4,
   "metadata": {
    "collapsed": false
   },
   "outputs": [],
   "source": [
    "cursor.execute(\"SELECT message, reason, suggestion FROM datasets_rejected\")\n",
    "raw_reject = cursor.fetchall()\n",
    "\n",
    "\n",
    "cursor.execute(\"SELECT message, suggestion FROM datasets_approved\")\n",
    "raw_approved = cursor.fetchall()"
   ]
  },
  {
   "cell_type": "markdown",
   "metadata": {},
   "source": [
    "# Helpers"
   ]
  },
  {
   "cell_type": "code",
   "execution_count": 5,
   "metadata": {
    "collapsed": true
   },
   "outputs": [],
   "source": [
    "def get_data(approved=True, detail=False, clean=True):\n",
    "    \"\"\"Get Data\n",
    "    returns a numpy array of dicts containing spotteds as specified\n",
    "\n",
    "    approved: approved or rejected spotteds\n",
    "    detail: wether or not to return the detailed reject reason\n",
    "    \"\"\"\n",
    "\n",
    "    if approved:\n",
    "        data = raw_approved\n",
    "    else:\n",
    "        data = raw_reject\n",
    "\n",
    "    if approved:\n",
    "        return pd.DataFrame([[x[0], \"aprovado\", x[1]] for x in data], columns=['message', \"reason\", \"suggestion\"])\n",
    "    else:\n",
    "        rejected = pd.DataFrame([[x[0], x[1], x[2]] for x in data], columns=['message', \"reason\", \"suggestion\"])\n",
    "        if clean:\n",
    "            rejected = clean_details(rejected)\n",
    "        if detail:\n",
    "            return rejected\n",
    "        return rejected.replace({'reason': {'^(.*?)$': 'rejeitado'}}, regex=True)\n",
    "\n",
    "\n",
    "def clean_details(df):\n",
    "    \"\"\"Clean Details\n",
    "    merges and removes unwanted columns\n",
    "    \"\"\"\n",
    "    details_rej = [\n",
    "        (\"Ofensivo\", [\"Ofensivo ou Ódio\", \"Bullying individual\"]),\n",
    "        (\"Spam\", [\"Corrente ou spam\", \"Conteúdo comercial\", \"Spam / Propaganda\"]),\n",
    "        (\"Obsceno\", [\"Obsceno ou Assédio\"]),\n",
    "        (\"Off-topic\", [False]),\n",
    "        (\"Depressivo\", [False])\n",
    "    ]\n",
    "    res = pd.DataFrame()\n",
    "    for t in details_rej:\n",
    "        for c in t[1]:\n",
    "            if t[0]:\n",
    "                df = df.replace({'reason': {c: t[0]}})\n",
    "        res = res.append(df[df['reason'] == t[0]], ignore_index=True)\n",
    "    return res\n",
    "\n",
    "\n",
    "def rand_reindex(arr):\n",
    "    \"\"\"Random reindex\n",
    "    randomly reindexes an array\n",
    "    \"\"\"\n",
    "\n",
    "    return arr.reindex(np.random.permutation(arr.index))\n",
    "\n",
    "\n",
    "def merge_data(approved, rejected, ratio=1):\n",
    "    \"\"\"Merge data\n",
    "    merges approved and rejected arrays using a ratio to size the approved ones\n",
    "    also reindexes them\n",
    "    \"\"\"\n",
    "\n",
    "    approved = rand_reindex(approved)\n",
    "    approved = approved.iloc[:(round(len(rejected) * ratio))]\n",
    "    return rand_reindex(approved.append(rejected, ignore_index=True))\n",
    "\n",
    "\n",
    "def stop_words():\n",
    "    response = requests.get(\"https://gist.githubusercontent.com/alopes/5358189/raw/2107d809cca6b83ce3d8e04dbd9463283025284f/stopwords.txt\")\n",
    "    return response.text.split()"
   ]
  },
  {
   "cell_type": "code",
   "execution_count": 6,
   "metadata": {
    "collapsed": false
   },
   "outputs": [],
   "source": [
    "rejected = get_data(False)\n",
    "rejected_detail = get_data(False, True)\n",
    "rejected_detail_uncleaned = get_data(False, True, False)\n",
    "approved = get_data()\n",
    "stopwords = stop_words()"
   ]
  },
  {
   "cell_type": "markdown",
   "metadata": {},
   "source": [
    "# The dataset in numbers"
   ]
  },
  {
   "cell_type": "code",
   "execution_count": 7,
   "metadata": {
    "collapsed": false
   },
   "outputs": [
    {
     "data": {
      "image/png": "[encoded data removed]",
      "text/plain": [
       "<matplotlib.figure.Figure at 0x11a072cc0>"
      ]
     },
     "metadata": {},
     "output_type": "display_data"
    }
   ],
   "source": [
    "plt.bar(range(2), [len(approved), len(rejected)], align='center')\n",
    "plt.xticks(range(2), [\"Aprovado\", \"Reprovado\"], size='large')\n",
    "plt.show()"
   ]
  },
  {
   "cell_type": "code",
   "execution_count": 8,
   "metadata": {
    "collapsed": false
   },
   "outputs": [],
   "source": [
    "reject_options = set(rejected_detail['reason'])\n",
    "reject_numbers = [(x, len(rejected_detail[rejected_detail.reason.isin([x])])) for x in reject_options]\n",
    "\n",
    "reject_options1 = set(rejected_detail_uncleaned['reason'])\n",
    "reject_numbers1 = [(x, len(rejected_detail_uncleaned[rejected_detail_uncleaned.reason.isin([x])])) for x in reject_options1]"
   ]
  },
  {
   "cell_type": "code",
   "execution_count": 9,
   "metadata": {
    "collapsed": false
   },
   "outputs": [
    {
     "data": {
      "image/png": "[encoded data removed]",
      "text/plain": [
       "<matplotlib.figure.Figure at 0x11e42b400>"
      ]
     },
     "metadata": {},
     "output_type": "display_data"
    },
    {
     "data": {
      "image/png": "[encoded data removed]",
      "text/plain": [
       "<matplotlib.figure.Figure at 0x11e42bb00>"
      ]
     },
     "metadata": {},
     "output_type": "display_data"
    },
    {
     "data": {
      "image/png": "[encoded data removed]",
      "text/plain": [
       "<matplotlib.figure.Figure at 0x11df210f0>"
      ]
     },
     "metadata": {},
     "output_type": "display_data"
    }
   ],
   "source": [
    "plt.bar(range(len(reject_numbers1)), [x[1] for x in sorted(reject_numbers1, key=lambda x: x[1])], align='center')\n",
    "plt.xticks(range(len(reject_numbers1)), [x[0] for x in sorted(reject_numbers1, key=lambda x: x[1])], size='large', rotation=90)\n",
    "plt.show()\n",
    "plt.bar(range(len(reject_numbers)), [x[1] for x in sorted(reject_numbers, key=lambda x: x[1])], align='center')\n",
    "plt.xticks(range(len(reject_numbers)), [x[0] for x in sorted(reject_numbers, key=lambda x: x[1])], size='large', rotation=0)\n",
    "plt.show()\n",
    "\n",
    "plt.bar(range(2), [len(rejected_detail_uncleaned), len(rejected_detail)], align='center')\n",
    "plt.xticks(range(2), [\"Antes\", \"depois\"], size='large', rotation=0)\n",
    "plt.show()"
   ]
  },
  {
   "cell_type": "code",
   "execution_count": 10,
   "metadata": {
    "collapsed": false
   },
   "outputs": [
    {
     "name": "stdout",
     "output_type": "stream",
     "text": [
      "                                                             message  \\\n",
      "reason                                                                 \n",
      "Depressivo count                                                  37   \n",
      "           unique                                                 37   \n",
      "           top     Você quis tantas outras enquanto eu só queria ...   \n",
      "           freq                                                    1   \n",
      "Obsceno    count                                                  46   \n",
      "           unique                                                 45   \n",
      "           top     Moço hetero, da informática,  32 anos, 182 cm,...   \n",
      "           freq                                                    2   \n",
      "Ofensivo   count                                                  94   \n",
      "           unique                                                 92   \n",
      "           top     https://media.giphy.com/media/13wdfW1swTI7GE/g...   \n",
      "           freq                                                    2   \n",
      "Off-topic  count                                                  87   \n",
      "           unique                                                 85   \n",
      "           top     Alguém vai pro Bar do Zé sábado, na festa dos ...   \n",
      "           freq                                                    2   \n",
      "Spam       count                                                 106   \n",
      "           unique                                                106   \n",
      "           top     Quero saber dos roles em repúplicas que vão ac...   \n",
      "           freq                                                    1   \n",
      "\n",
      "                  suggestion  \n",
      "reason                        \n",
      "Depressivo count          37  \n",
      "           unique          2  \n",
      "           top                \n",
      "           freq           36  \n",
      "Obsceno    count          46  \n",
      "           unique          2  \n",
      "           top                \n",
      "           freq           44  \n",
      "Ofensivo   count          94  \n",
      "           unique          4  \n",
      "           top                \n",
      "           freq           89  \n",
      "Off-topic  count          87  \n",
      "           unique          1  \n",
      "           top                \n",
      "           freq           87  \n",
      "Spam       count         106  \n",
      "           unique          4  \n",
      "           top                \n",
      "           freq           93  \n"
     ]
    }
   ],
   "source": [
    "print(rejected_detail.groupby('reason').describe())"
   ]
  },
  {
   "cell_type": "markdown",
   "metadata": {},
   "source": [
    "# More numbers\n",
    "\n",
    "lets take a look at the top messages' lengths"
   ]
  },
  {
   "cell_type": "code",
   "execution_count": 11,
   "metadata": {
    "collapsed": false
   },
   "outputs": [
    {
     "name": "stdout",
     "output_type": "stream",
     "text": [
      "                                                message    reason  \\\n",
      "3670  Muitos duvidam da existência do amor. Muitos a...  aprovado   \n",
      "2229  Para q mulher mais sensacional que conheci \\r\\...  aprovado   \n",
      "4985  De JTR pra uma pessoa especial\\r\\nNão vou dize...  aprovado   \n",
      "707   Acho que muitos spotteds aqui tem o mesmo moti...  aprovado   \n",
      "4739  Não sou dono de nenhuma verdade e passo bem lo...  aprovado   \n",
      "\n",
      "           suggestion  length  \n",
      "3670                     4185  \n",
      "2229  Rejeitar: Outro    3786  \n",
      "4985                     3749  \n",
      "707                      3573  \n",
      "4739                     3558  \n"
     ]
    }
   ],
   "source": [
    "spotteds = merge_data(approved, rejected, 100)\n",
    "spotteds['length'] = spotteds['message'].map(lambda text: len(text))\n",
    "print(spotteds.sort_values(by='length', ascending=0).head())"
   ]
  },
  {
   "cell_type": "markdown",
   "metadata": {},
   "source": [
    "### What is this super long message?"
   ]
  },
  {
   "cell_type": "code",
   "execution_count": 12,
   "metadata": {
    "collapsed": false
   },
   "outputs": [
    {
     "name": "stdout",
     "output_type": "stream",
     "text": [
      "Muitos duvidam da existência do amor. Muitos afirmam ser ele uma invenção da literatura. Outros, que se trata de uma projeção neurótica imaginária. Uma patologia da família das manias. Há quem suspeite de que seja uma doença da alma. Estão errados. \r\n",
      "\r\n",
      "Quem conhece o amor sabe que ele habita entre nós. E sua presença nos faz sentir vivos. Por isso, o ressentimento é cego ao amor. Pode ser raro, randômico, frágil muitas vezes, mas nem por isso menos marcante quando percebido. \r\n",
      "\r\n",
      "Este é o tema do filme sueco \"Um Homem Chamado Ove\", de Hannes Holm, que foi indicado para melhor filme estrangeiro no Oscar deste ano. O cinema escandinavo está sempre entre os melhores do mundo. Poucos lidam com temas do afeto de forma tão elegante, do desespero à beleza, mas sempre elegante. \r\n",
      "\r\n",
      "A história é um clássico: a morte de uma esposa amada e a solidão decorrente. O filme narra a \"cura\" do homem chamado Ove, principalmente, pelas mãos de sua vizinha grávida iraniana, e suas filhas, além de todos os vizinhos em volta, lembrando, em muitas cenas, uma máxima rabínica: Deus está nos detalhes. \r\n",
      "\r\n",
      "E o Messias entra pela fresta da porta. O amor também, como diz o livro bíblico \"Cântico dos Cânticos\". A falta de atenção para com os detalhes torna qualquer pessoa obcecada pela falta de sentido das coisas. A delicadeza é a virtude cognitiva necessária para a percepção do amor no mundo.\r\n",
      "Só quem conhece o amor sabe o desespero que pode ser perder a quem se ama. O amor é incomum. \r\n",
      "\r\n",
      "Claro, nada tem a ver necessariamente com o casamento. Pode, inclusive, morrer pelas mãos do casamento. Casa-se com quem se ama porque o amor pede o convívio. A presença viva de que ele existe. \r\n",
      "\r\n",
      "Estar longe de quem se ama implica numa falta que beira a asfixia. Na verdade, o amor está entre as formas mais poderosas de significado na vida. E vai muito além do amor romântico propriamente dito. \r\n",
      "\r\n",
      "A percepção repentina do amor pode dar a quem o vê a sensação de estar diante de um milagre, dado a sua leveza, humildade e generosidade. \r\n",
      "\r\n",
      "A falta de amor na vida produz um certo ceticismo em relação ao mundo. Ou pior: o sentimento de inexistência. O mundo fica escuro, e você, vazio. A falta de amor beira a descrença. Perde-se a confiança nas coisas. Mesmo nas árvores e nos pássaros. \r\n",
      "\r\n",
      "Um dos pecados maiores da inteligência é chegar à conclusão de que o amor é uma ficção. Mas não é a inteligência que aí fala, mas a tristeza de um coração em agonia.\r\n",
      "\r\n",
      "Muitas vezes, pessoas supostamente inteligentes consideram o amor algo ingênuo e pueril. E quem ama, um equivocado. \r\n",
      "\r\n",
      "Não há razões pra amar, uma vez que o mundo parece provar a cada minuto que ele é o terreno da raiva, do rancor e do ressentimento. A ciência do mundo parece mesmo ser um tratado sobre a desconfiança.\r\n",
      "\r\n",
      "Søren Kierkegaard (1813-1855), em seu \"As Obras do Amor\", da editora Vozes, alerta aos inteligentes que não confundam o amor com alguma forma de ignorância da mentira e dos riscos. \r\n",
      "\r\n",
      "A desconfiança se acha a mais completa das virtudes morais ou cognitivas. A armadilha de quem desconfia sempre é que ele mesmo se sente inexistente para o mundo porque este é sempre visto com desprezo. É da natureza do amor olhar para fora e não para dentro. O amor não é apaixonado por si mesmo. \r\n",
      "\r\n",
      "Outra suposta arma contra o amor é o fato de a hipocrisia reinar no mundo. A hipótese de a hipocrisia ser a substância da moral pública parece inviabilizar o amor por conta de sua cegueira para com esta hipocrisia mesma. \r\n",
      "\r\n",
      "É verdade: o amor não vê a hipocrisia. Kierkegaard diz que há um \"abismo escancarado\" entre eles. Este abismo é de natureza, isto é, a diferença de postura entre os dois torna o amor tão distante da hipocrisia, que sua pantomima, fruto do desprezo pelas coisas, é invisível aos olhos do amor que une as coisas. \r\n",
      "\r\n",
      "O amor é concreto como o dia a dia. Engana-se quem o considera abstrato e fantasioso. Kierkegaard nos lembra em seu primeiro ensaio como o amor só se conhece pelos frutos. Isso implica que não há propriamente uma percepção do amor que não seja prática. O gosto do amor é a confiança nas coisas que ele dá a quem o experimenta. \r\n",
      "\r\n",
      "\r\n",
      "Texto publicado na Folha em 27/03 - Luiz Felipe Pondé.\n"
     ]
    }
   ],
   "source": [
    "print(spotteds.sort_values(by='length', ascending=0).iloc[0]['message'])"
   ]
  },
  {
   "cell_type": "markdown",
   "metadata": {},
   "source": [
    "### What is the difference in approved and rejected?"
   ]
  },
  {
   "cell_type": "code",
   "execution_count": 13,
   "metadata": {
    "collapsed": false
   },
   "outputs": [
    {
     "data": {
      "text/plain": [
       "array([<matplotlib.axes._subplots.AxesSubplot object at 0x11e5b6ac8>,\n",
       "       <matplotlib.axes._subplots.AxesSubplot object at 0x11e9b6c88>], dtype=object)"
      ]
     },
     "execution_count": 13,
     "metadata": {},
     "output_type": "execute_result"
    },
    {
     "data": {
      "image/png": "[encoded data removed]",
      "text/plain": [
       "<matplotlib.figure.Figure at 0x11e42b358>"
      ]
     },
     "metadata": {},
     "output_type": "display_data"
    }
   ],
   "source": [
    "spotteds.hist(column='length', by='reason', bins=25)"
   ]
  },
  {
   "cell_type": "markdown",
   "metadata": {},
   "source": [
    "### What else can we learn about them?"
   ]
  },
  {
   "cell_type": "code",
   "execution_count": 14,
   "metadata": {
    "collapsed": false
   },
   "outputs": [
    {
     "data": {
      "text/html": [
       "<div>\n",
       "<table border=\"1\" class=\"dataframe\">\n",
       "  <thead>\n",
       "    <tr style=\"text-align: right;\">\n",
       "      <th></th>\n",
       "      <th></th>\n",
       "      <th>length</th>\n",
       "    </tr>\n",
       "    <tr>\n",
       "      <th>reason</th>\n",
       "      <th></th>\n",
       "      <th></th>\n",
       "    </tr>\n",
       "  </thead>\n",
       "  <tbody>\n",
       "    <tr>\n",
       "      <th rowspan=\"8\" valign=\"top\">aprovado</th>\n",
       "      <th>count</th>\n",
       "      <td>5351.000000</td>\n",
       "    </tr>\n",
       "    <tr>\n",
       "      <th>mean</th>\n",
       "      <td>207.731265</td>\n",
       "    </tr>\n",
       "    <tr>\n",
       "      <th>std</th>\n",
       "      <td>257.115567</td>\n",
       "    </tr>\n",
       "    <tr>\n",
       "      <th>min</th>\n",
       "      <td>1.000000</td>\n",
       "    </tr>\n",
       "    <tr>\n",
       "      <th>25%</th>\n",
       "      <td>81.000000</td>\n",
       "    </tr>\n",
       "    <tr>\n",
       "      <th>50%</th>\n",
       "      <td>137.000000</td>\n",
       "    </tr>\n",
       "    <tr>\n",
       "      <th>75%</th>\n",
       "      <td>233.000000</td>\n",
       "    </tr>\n",
       "    <tr>\n",
       "      <th>max</th>\n",
       "      <td>4185.000000</td>\n",
       "    </tr>\n",
       "    <tr>\n",
       "      <th rowspan=\"8\" valign=\"top\">rejeitado</th>\n",
       "      <th>count</th>\n",
       "      <td>370.000000</td>\n",
       "    </tr>\n",
       "    <tr>\n",
       "      <th>mean</th>\n",
       "      <td>220.524324</td>\n",
       "    </tr>\n",
       "    <tr>\n",
       "      <th>std</th>\n",
       "      <td>287.078822</td>\n",
       "    </tr>\n",
       "    <tr>\n",
       "      <th>min</th>\n",
       "      <td>1.000000</td>\n",
       "    </tr>\n",
       "    <tr>\n",
       "      <th>25%</th>\n",
       "      <td>75.000000</td>\n",
       "    </tr>\n",
       "    <tr>\n",
       "      <th>50%</th>\n",
       "      <td>125.000000</td>\n",
       "    </tr>\n",
       "    <tr>\n",
       "      <th>75%</th>\n",
       "      <td>235.750000</td>\n",
       "    </tr>\n",
       "    <tr>\n",
       "      <th>max</th>\n",
       "      <td>2562.000000</td>\n",
       "    </tr>\n",
       "  </tbody>\n",
       "</table>\n",
       "</div>"
      ],
      "text/plain": [
       "                      length\n",
       "reason                      \n",
       "aprovado  count  5351.000000\n",
       "          mean    207.731265\n",
       "          std     257.115567\n",
       "          min       1.000000\n",
       "          25%      81.000000\n",
       "          50%     137.000000\n",
       "          75%     233.000000\n",
       "          max    4185.000000\n",
       "rejeitado count   370.000000\n",
       "          mean    220.524324\n",
       "          std     287.078822\n",
       "          min       1.000000\n",
       "          25%      75.000000\n",
       "          50%     125.000000\n",
       "          75%     235.750000\n",
       "          max    2562.000000"
      ]
     },
     "execution_count": 14,
     "metadata": {},
     "output_type": "execute_result"
    }
   ],
   "source": [
    "spotteds.groupby('reason').describe()"
   ]
  },
  {
   "cell_type": "markdown",
   "metadata": {},
   "source": [
    "Evaluating the reject probability by message length alone is not going to be possible, then, since they are very similar\n",
    "\n",
    "So let's try something else"
   ]
  },
  {
   "cell_type": "markdown",
   "metadata": {},
   "source": [
    "# Spotteds to Vectors\n",
    "\n",
    "Here we'll create a bag of words containing all words and n-grams present on the spotteds."
   ]
  },
  {
   "cell_type": "code",
   "execution_count": 15,
   "metadata": {
    "collapsed": false
   },
   "outputs": [
    {
     "name": "stdout",
     "output_type": "stream",
     "text": [
      "(740, 33048)\n"
     ]
    }
   ],
   "source": [
    "spotteds = merge_data(approved, rejected, 1)\n",
    "\n",
    "# First we initialize the vectorizer\n",
    "count_vectorizer = CountVectorizer(strip_accents='ascii', analyzer='word', stop_words=stopwords, ngram_range=(1, 3))\n",
    "\n",
    "# Then we fit and transform it to create our bag of words\n",
    "count_transformer = count_vectorizer.fit(spotteds['message'])\n",
    "bag_o_words = count_transformer.transform(spotteds['message'])\n",
    "\n",
    "print(bag_o_words.shape)"
   ]
  },
  {
   "cell_type": "markdown",
   "metadata": {},
   "source": [
    "### Normalizing our bag\n",
    "\n",
    "In order for us to get better results, its a good idea to normalize and do some term weighting using sklearn's TF-IDF methods"
   ]
  },
  {
   "cell_type": "code",
   "execution_count": 16,
   "metadata": {
    "collapsed": false
   },
   "outputs": [
    {
     "name": "stdout",
     "output_type": "stream",
     "text": [
      "(740, 33048)\n"
     ]
    }
   ],
   "source": [
    "tfidf_transformer = TfidfTransformer().fit(bag_o_words)\n",
    "\n",
    "norm_bag_o_words = tfidf_transformer.transform(bag_o_words)\n",
    "\n",
    "print(norm_bag_o_words.shape)"
   ]
  },
  {
   "cell_type": "markdown",
   "metadata": {},
   "source": [
    "# Training our model\n",
    "\n",
    "now that we extracted our features it's time to create and train our model to predict stuff\n",
    "\n",
    "We'll use Naive Bayes for now, but later we'll experiment with some other classification algorithms"
   ]
  },
  {
   "cell_type": "code",
   "execution_count": 17,
   "metadata": {
    "collapsed": false
   },
   "outputs": [
    {
     "name": "stdout",
     "output_type": "stream",
     "text": [
      "CPU times: user 4.06 ms, sys: 1.65 ms, total: 5.71 ms\n",
      "Wall time: 4.87 ms\n"
     ]
    }
   ],
   "source": [
    "%time approve_predictor = MultinomialNB().fit(norm_bag_o_words, spotteds['reason'])"
   ]
  },
  {
   "cell_type": "markdown",
   "metadata": {},
   "source": [
    "Let's classify some random messages"
   ]
  },
  {
   "cell_type": "code",
   "execution_count": 18,
   "metadata": {
    "collapsed": false
   },
   "outputs": [
    {
     "name": "stdout",
     "output_type": "stream",
     "text": [
      "Triste pelo Spotted ter se transformado em um antro de tretas e discussões inúteis. Para isso, já tínhamos o grupo da Unicamp...\n",
      "predicted: rejeitado\n",
      "expected: rejeitado\n"
     ]
    }
   ],
   "source": [
    "spotted_number = 5\n",
    "single_spotted = tfidf_transformer.transform(count_transformer.transform([spotteds.iloc[spotted_number]['message']]))\n",
    "print(spotteds.iloc[spotted_number]['message'])\n",
    "print('predicted:', approve_predictor.predict(single_spotted)[0])\n",
    "print('expected:', spotteds.iloc[spotted_number]['reason'])"
   ]
  },
  {
   "cell_type": "markdown",
   "metadata": {},
   "source": [
    "Success!\n",
    "\n",
    "Now let's generate predictions for all spotteds"
   ]
  },
  {
   "cell_type": "code",
   "execution_count": 19,
   "metadata": {
    "collapsed": false
   },
   "outputs": [
    {
     "name": "stdout",
     "output_type": "stream",
     "text": [
      "['rejeitado' 'rejeitado' 'aprovado' 'rejeitado' 'rejeitado' 'rejeitado'\n",
      " 'aprovado' 'aprovado' 'aprovado' 'rejeitado' 'aprovado' 'rejeitado'\n",
      " 'rejeitado' 'rejeitado' 'aprovado' 'aprovado' 'rejeitado' 'rejeitado'\n",
      " 'rejeitado' 'aprovado' 'aprovado' 'aprovado' 'aprovado' 'aprovado'\n",
      " 'aprovado' 'aprovado' 'rejeitado' 'aprovado' 'aprovado' 'rejeitado'\n",
      " 'aprovado' 'aprovado' 'aprovado' 'rejeitado' 'rejeitado' 'rejeitado'\n",
      " 'aprovado' 'rejeitado' 'aprovado' 'aprovado' 'rejeitado' 'aprovado'\n",
      " 'aprovado' 'aprovado' 'rejeitado' 'aprovado' 'rejeitado' 'aprovado'\n",
      " 'rejeitado' 'rejeitado' 'aprovado' 'rejeitado' 'rejeitado' 'rejeitado'\n",
      " 'aprovado' 'rejeitado' 'rejeitado' 'aprovado' 'rejeitado' 'aprovado'\n",
      " 'aprovado' 'rejeitado' 'rejeitado' 'rejeitado' 'rejeitado' 'rejeitado'\n",
      " 'aprovado' 'rejeitado' 'rejeitado' 'rejeitado' 'rejeitado' 'rejeitado'\n",
      " 'rejeitado' 'aprovado' 'rejeitado' 'rejeitado' 'aprovado' 'rejeitado'\n",
      " 'rejeitado' 'aprovado' 'aprovado' 'aprovado' 'rejeitado' 'aprovado'\n",
      " 'rejeitado' 'rejeitado' 'rejeitado' 'rejeitado' 'rejeitado' 'rejeitado'\n",
      " 'aprovado' 'aprovado' 'aprovado' 'rejeitado' 'aprovado' 'rejeitado'\n",
      " 'rejeitado' 'aprovado' 'rejeitado' 'rejeitado' 'rejeitado' 'rejeitado'\n",
      " 'rejeitado' 'rejeitado' 'aprovado' 'aprovado' 'aprovado' 'rejeitado'\n",
      " 'aprovado' 'rejeitado' 'aprovado' 'rejeitado' 'rejeitado' 'aprovado'\n",
      " 'aprovado' 'rejeitado' 'rejeitado' 'aprovado' 'aprovado' 'aprovado'\n",
      " 'rejeitado' 'rejeitado' 'aprovado' 'aprovado' 'rejeitado' 'rejeitado'\n",
      " 'rejeitado' 'rejeitado' 'rejeitado' 'rejeitado' 'aprovado' 'rejeitado'\n",
      " 'rejeitado' 'aprovado' 'aprovado' 'rejeitado' 'aprovado' 'aprovado'\n",
      " 'aprovado' 'rejeitado' 'rejeitado' 'rejeitado' 'rejeitado' 'aprovado'\n",
      " 'aprovado' 'aprovado' 'rejeitado' 'aprovado' 'rejeitado' 'rejeitado'\n",
      " 'rejeitado' 'aprovado' 'aprovado' 'rejeitado' 'rejeitado' 'rejeitado'\n",
      " 'rejeitado' 'aprovado' 'rejeitado' 'aprovado' 'aprovado' 'aprovado'\n",
      " 'aprovado' 'aprovado' 'aprovado' 'aprovado' 'rejeitado' 'rejeitado'\n",
      " 'aprovado' 'aprovado' 'rejeitado' 'rejeitado' 'aprovado' 'rejeitado'\n",
      " 'rejeitado' 'rejeitado' 'rejeitado' 'rejeitado' 'aprovado' 'rejeitado'\n",
      " 'rejeitado' 'rejeitado' 'aprovado' 'aprovado' 'rejeitado' 'rejeitado'\n",
      " 'aprovado' 'aprovado' 'rejeitado' 'aprovado' 'aprovado' 'aprovado'\n",
      " 'aprovado' 'aprovado' 'aprovado' 'aprovado' 'rejeitado' 'aprovado'\n",
      " 'rejeitado' 'rejeitado' 'aprovado' 'rejeitado' 'rejeitado' 'rejeitado'\n",
      " 'rejeitado' 'rejeitado' 'aprovado' 'aprovado' 'aprovado' 'rejeitado'\n",
      " 'aprovado' 'rejeitado' 'aprovado' 'rejeitado' 'aprovado' 'aprovado'\n",
      " 'rejeitado' 'rejeitado' 'rejeitado' 'rejeitado' 'aprovado' 'aprovado'\n",
      " 'aprovado' 'rejeitado' 'rejeitado' 'rejeitado' 'aprovado' 'rejeitado'\n",
      " 'aprovado' 'rejeitado' 'rejeitado' 'aprovado' 'aprovado' 'aprovado'\n",
      " 'rejeitado' 'rejeitado' 'rejeitado' 'rejeitado' 'aprovado' 'rejeitado'\n",
      " 'aprovado' 'rejeitado' 'aprovado' 'rejeitado' 'rejeitado' 'aprovado'\n",
      " 'aprovado' 'rejeitado' 'rejeitado' 'rejeitado' 'rejeitado' 'aprovado'\n",
      " 'rejeitado' 'rejeitado' 'rejeitado' 'rejeitado' 'rejeitado' 'aprovado'\n",
      " 'aprovado' 'aprovado' 'aprovado' 'rejeitado' 'aprovado' 'aprovado'\n",
      " 'rejeitado' 'rejeitado' 'rejeitado' 'rejeitado' 'aprovado' 'aprovado'\n",
      " 'aprovado' 'aprovado' 'rejeitado' 'aprovado' 'aprovado' 'aprovado'\n",
      " 'aprovado' 'rejeitado' 'rejeitado' 'aprovado' 'rejeitado' 'aprovado'\n",
      " 'aprovado' 'aprovado' 'aprovado' 'aprovado' 'aprovado' 'aprovado'\n",
      " 'aprovado' 'rejeitado' 'aprovado' 'aprovado' 'aprovado' 'rejeitado'\n",
      " 'aprovado' 'rejeitado' 'aprovado' 'rejeitado' 'rejeitado' 'aprovado'\n",
      " 'aprovado' 'rejeitado' 'aprovado' 'aprovado' 'aprovado' 'aprovado'\n",
      " 'rejeitado' 'aprovado' 'aprovado' 'rejeitado' 'aprovado' 'rejeitado'\n",
      " 'aprovado' 'aprovado' 'aprovado' 'rejeitado' 'aprovado' 'aprovado'\n",
      " 'aprovado' 'aprovado' 'aprovado' 'rejeitado' 'aprovado' 'rejeitado'\n",
      " 'aprovado' 'rejeitado' 'rejeitado' 'aprovado' 'rejeitado' 'aprovado'\n",
      " 'rejeitado' 'aprovado' 'rejeitado' 'aprovado' 'rejeitado' 'rejeitado'\n",
      " 'aprovado' 'rejeitado' 'aprovado' 'rejeitado' 'rejeitado' 'rejeitado'\n",
      " 'aprovado' 'aprovado' 'aprovado' 'rejeitado' 'rejeitado' 'aprovado'\n",
      " 'aprovado' 'aprovado' 'aprovado' 'rejeitado' 'aprovado' 'rejeitado'\n",
      " 'aprovado' 'rejeitado' 'rejeitado' 'aprovado' 'rejeitado' 'rejeitado'\n",
      " 'aprovado' 'aprovado' 'aprovado' 'aprovado' 'aprovado' 'rejeitado'\n",
      " 'aprovado' 'rejeitado' 'aprovado' 'aprovado' 'rejeitado' 'rejeitado'\n",
      " 'aprovado' 'aprovado' 'rejeitado' 'rejeitado' 'aprovado' 'aprovado'\n",
      " 'rejeitado' 'aprovado' 'rejeitado' 'rejeitado' 'rejeitado' 'aprovado'\n",
      " 'aprovado' 'aprovado' 'rejeitado' 'rejeitado' 'aprovado' 'aprovado'\n",
      " 'rejeitado' 'rejeitado' 'rejeitado' 'rejeitado' 'rejeitado' 'aprovado'\n",
      " 'rejeitado' 'rejeitado' 'aprovado' 'aprovado' 'rejeitado' 'rejeitado'\n",
      " 'rejeitado' 'rejeitado' 'aprovado' 'aprovado' 'rejeitado' 'aprovado'\n",
      " 'rejeitado' 'aprovado' 'aprovado' 'rejeitado' 'rejeitado' 'aprovado'\n",
      " 'aprovado' 'rejeitado' 'rejeitado' 'rejeitado' 'aprovado' 'aprovado'\n",
      " 'aprovado' 'rejeitado' 'aprovado' 'rejeitado' 'rejeitado' 'rejeitado'\n",
      " 'rejeitado' 'aprovado' 'aprovado' 'aprovado' 'aprovado' 'rejeitado'\n",
      " 'rejeitado' 'aprovado' 'aprovado' 'rejeitado' 'rejeitado' 'rejeitado'\n",
      " 'rejeitado' 'aprovado' 'aprovado' 'rejeitado' 'aprovado' 'rejeitado'\n",
      " 'rejeitado' 'aprovado' 'rejeitado' 'rejeitado' 'rejeitado' 'aprovado'\n",
      " 'rejeitado' 'aprovado' 'rejeitado' 'rejeitado' 'aprovado' 'aprovado'\n",
      " 'rejeitado' 'rejeitado' 'rejeitado' 'rejeitado' 'aprovado' 'rejeitado'\n",
      " 'rejeitado' 'aprovado' 'aprovado' 'rejeitado' 'aprovado' 'rejeitado'\n",
      " 'rejeitado' 'rejeitado' 'aprovado' 'rejeitado' 'aprovado' 'rejeitado'\n",
      " 'aprovado' 'aprovado' 'aprovado' 'rejeitado' 'aprovado' 'aprovado'\n",
      " 'rejeitado' 'rejeitado' 'aprovado' 'aprovado' 'aprovado' 'aprovado'\n",
      " 'aprovado' 'aprovado' 'aprovado' 'aprovado' 'rejeitado' 'aprovado'\n",
      " 'aprovado' 'aprovado' 'rejeitado' 'rejeitado' 'aprovado' 'rejeitado'\n",
      " 'rejeitado' 'aprovado' 'rejeitado' 'aprovado' 'rejeitado' 'rejeitado'\n",
      " 'rejeitado' 'aprovado' 'rejeitado' 'aprovado' 'aprovado' 'rejeitado'\n",
      " 'rejeitado' 'rejeitado' 'aprovado' 'aprovado' 'rejeitado' 'aprovado'\n",
      " 'aprovado' 'rejeitado' 'aprovado' 'aprovado' 'aprovado' 'rejeitado'\n",
      " 'aprovado' 'rejeitado' 'aprovado' 'aprovado' 'aprovado' 'aprovado'\n",
      " 'aprovado' 'rejeitado' 'rejeitado' 'rejeitado' 'rejeitado' 'aprovado'\n",
      " 'aprovado' 'rejeitado' 'aprovado' 'aprovado' 'aprovado' 'rejeitado'\n",
      " 'rejeitado' 'aprovado' 'aprovado' 'rejeitado' 'rejeitado' 'rejeitado'\n",
      " 'rejeitado' 'rejeitado' 'aprovado' 'aprovado' 'rejeitado' 'rejeitado'\n",
      " 'aprovado' 'rejeitado' 'aprovado' 'aprovado' 'aprovado' 'rejeitado'\n",
      " 'aprovado' 'rejeitado' 'aprovado' 'aprovado' 'rejeitado' 'rejeitado'\n",
      " 'rejeitado' 'aprovado' 'aprovado' 'rejeitado' 'aprovado' 'aprovado'\n",
      " 'aprovado' 'rejeitado' 'aprovado' 'rejeitado' 'aprovado' 'aprovado'\n",
      " 'aprovado' 'aprovado' 'rejeitado' 'aprovado' 'rejeitado' 'aprovado'\n",
      " 'rejeitado' 'aprovado' 'rejeitado' 'rejeitado' 'aprovado' 'rejeitado'\n",
      " 'rejeitado' 'rejeitado' 'aprovado' 'aprovado' 'aprovado' 'aprovado'\n",
      " 'rejeitado' 'aprovado' 'rejeitado' 'aprovado' 'rejeitado' 'aprovado'\n",
      " 'aprovado' 'rejeitado' 'aprovado' 'rejeitado' 'aprovado' 'aprovado'\n",
      " 'aprovado' 'rejeitado' 'rejeitado' 'aprovado' 'rejeitado' 'aprovado'\n",
      " 'aprovado' 'rejeitado' 'rejeitado' 'aprovado' 'aprovado' 'aprovado'\n",
      " 'aprovado' 'aprovado' 'aprovado' 'rejeitado' 'rejeitado' 'aprovado'\n",
      " 'rejeitado' 'rejeitado' 'aprovado' 'rejeitado' 'aprovado' 'aprovado'\n",
      " 'aprovado' 'aprovado' 'rejeitado' 'aprovado' 'rejeitado' 'rejeitado'\n",
      " 'aprovado' 'rejeitado' 'aprovado' 'rejeitado' 'aprovado' 'aprovado'\n",
      " 'aprovado' 'aprovado' 'rejeitado' 'rejeitado' 'rejeitado' 'rejeitado'\n",
      " 'aprovado' 'aprovado' 'aprovado' 'aprovado' 'rejeitado' 'aprovado'\n",
      " 'rejeitado' 'aprovado' 'rejeitado' 'aprovado' 'rejeitado' 'rejeitado'\n",
      " 'aprovado' 'rejeitado' 'aprovado' 'rejeitado' 'rejeitado' 'aprovado'\n",
      " 'rejeitado' 'rejeitado' 'aprovado' 'rejeitado' 'rejeitado' 'rejeitado'\n",
      " 'rejeitado' 'aprovado' 'aprovado' 'aprovado' 'aprovado' 'aprovado'\n",
      " 'rejeitado' 'rejeitado' 'aprovado' 'rejeitado' 'rejeitado' 'rejeitado'\n",
      " 'aprovado' 'aprovado' 'rejeitado' 'rejeitado' 'rejeitado' 'rejeitado'\n",
      " 'aprovado' 'rejeitado' 'aprovado' 'aprovado' 'aprovado' 'rejeitado'\n",
      " 'aprovado' 'rejeitado' 'rejeitado' 'rejeitado' 'aprovado' 'aprovado'\n",
      " 'aprovado' 'rejeitado' 'aprovado' 'rejeitado' 'aprovado' 'aprovado'\n",
      " 'aprovado' 'rejeitado' 'rejeitado' 'rejeitado' 'rejeitado' 'aprovado'\n",
      " 'aprovado' 'rejeitado' 'rejeitado' 'rejeitado' 'aprovado' 'aprovado'\n",
      " 'rejeitado' 'aprovado' 'aprovado' 'rejeitado' 'rejeitado' 'aprovado'\n",
      " 'aprovado' 'aprovado' 'rejeitado' 'aprovado' 'rejeitado' 'aprovado'\n",
      " 'rejeitado' 'aprovado' 'rejeitado' 'rejeitado' 'aprovado' 'rejeitado'\n",
      " 'rejeitado' 'rejeitado']\n"
     ]
    }
   ],
   "source": [
    "all_predictions = approve_predictor.predict(norm_bag_o_words)\n",
    "print(all_predictions)"
   ]
  },
  {
   "cell_type": "markdown",
   "metadata": {},
   "source": [
    "Let's evaluate it a little bit"
   ]
  },
  {
   "cell_type": "code",
   "execution_count": 20,
   "metadata": {
    "collapsed": false
   },
   "outputs": [
    {
     "name": "stdout",
     "output_type": "stream",
     "text": [
      "accuracy 0.994594594595\n",
      "confusion matrix\n",
      " [[369   1]\n",
      " [  3 367]]\n",
      "\n"
     ]
    },
    {
     "data": {
      "text/plain": [
       "<matplotlib.text.Text at 0x11e5905c0>"
      ]
     },
     "execution_count": 20,
     "metadata": {},
     "output_type": "execute_result"
    },
    {
     "data": {
      "image/png": "[encoded data removed]",
      "text/plain": [
       "<matplotlib.figure.Figure at 0x11ea35710>"
      ]
     },
     "metadata": {},
     "output_type": "display_data"
    }
   ],
   "source": [
    "print('accuracy', accuracy_score(spotteds['reason'], all_predictions))\n",
    "print('confusion matrix\\n', confusion_matrix(spotteds['reason'], all_predictions))\n",
    "print()\n",
    "plt.matshow(confusion_matrix(spotteds['reason'], all_predictions), cmap=plt.cm.binary, interpolation='nearest')\n",
    "plt.title('confusion matrix')\n",
    "plt.colorbar()\n",
    "plt.ylabel('expected label')\n",
    "plt.xlabel('predicted label')"
   ]
  },
  {
   "cell_type": "code",
   "execution_count": 21,
   "metadata": {
    "collapsed": false
   },
   "outputs": [
    {
     "name": "stdout",
     "output_type": "stream",
     "text": [
      "             precision    recall  f1-score   support\n",
      "\n",
      "   aprovado       0.99      1.00      0.99       370\n",
      "  rejeitado       1.00      0.99      0.99       370\n",
      "\n",
      "avg / total       0.99      0.99      0.99       740\n",
      "\n"
     ]
    }
   ],
   "source": [
    "print(classification_report(spotteds['reason'], all_predictions))"
   ]
  },
  {
   "cell_type": "markdown",
   "metadata": {},
   "source": [
    "# Testing our model\n",
    "\n",
    "Now that we have our model ready, let's test it a little bit\n",
    "\n",
    "First we create training and testing sets"
   ]
  },
  {
   "cell_type": "code",
   "execution_count": 22,
   "metadata": {
    "collapsed": true
   },
   "outputs": [],
   "source": [
    "msg_train, msg_test, label_train, label_test = train_test_split(spotteds['message'], spotteds['reason'], test_size=0.2)"
   ]
  },
  {
   "cell_type": "markdown",
   "metadata": {},
   "source": [
    "Then we recap our pipeline"
   ]
  },
  {
   "cell_type": "code",
   "execution_count": 23,
   "metadata": {
    "collapsed": false
   },
   "outputs": [],
   "source": [
    "pipeline = Pipeline([\n",
    "    ('vectorizer', CountVectorizer(strip_accents='ascii', analyzer='word', stop_words=stopwords, ngram_range=(1, 3))),\n",
    "    ('tfidf', TfidfTransformer(use_idf=False)),\n",
    "    ('classifier', MultinomialNB()),\n",
    "])"
   ]
  },
  {
   "cell_type": "markdown",
   "metadata": {},
   "source": [
    "Then we test it"
   ]
  },
  {
   "cell_type": "code",
   "execution_count": 24,
   "metadata": {
    "collapsed": false
   },
   "outputs": [
    {
     "name": "stdout",
     "output_type": "stream",
     "text": [
      "[ 0.68333333  0.71666667  0.73333333  0.65        0.58333333  0.77966102\n",
      "  0.6779661   0.56896552  0.70689655  0.63793103]\n",
      "\n",
      "0.673808688876 0.0623052605063\n"
     ]
    }
   ],
   "source": [
    "scores = cross_val_score(pipeline,\n",
    "                         msg_train,\n",
    "                         label_train,\n",
    "                         cv=10,\n",
    "                         scoring='accuracy',\n",
    "                         n_jobs=-1,\n",
    "                         )\n",
    "print(scores)\n",
    "print()\n",
    "print(scores.mean(), scores.std())"
   ]
  },
  {
   "cell_type": "markdown",
   "metadata": {},
   "source": [
    "Meh. A little more than average modeling, but that may be due to the fact that our data contains a lot of garbage and can be further cleaned.\n",
    "\n",
    "Another nice thing that we can do is generate some learning curves to see how our model changes over time"
   ]
  },
  {
   "cell_type": "code",
   "execution_count": 25,
   "metadata": {
    "collapsed": true
   },
   "outputs": [],
   "source": [
    "def plot_learning_curve(estimator, title, X, y, ylim=None, cv=None,\n",
    "                        n_jobs=-1, train_sizes=np.linspace(.1, 1.0, 5)):\n",
    "    \"\"\"\n",
    "    Generate a simple plot of the test and traning learning curve.\n",
    "\n",
    "    Parameters\n",
    "    ----------\n",
    "    estimator : object type that implements the \"fit\" and \"predict\" methods\n",
    "        An object of that type which is cloned for each validation.\n",
    "\n",
    "    title : string\n",
    "        Title for the chart.\n",
    "\n",
    "    X : array-like, shape (n_samples, n_features)\n",
    "        Training vector, where n_samples is the number of samples and\n",
    "        n_features is the number of features.\n",
    "\n",
    "    y : array-like, shape (n_samples) or (n_samples, n_features), optional\n",
    "        Target relative to X for classification or regression;\n",
    "        None for unsupervised learning.\n",
    "\n",
    "    ylim : tuple, shape (ymin, ymax), optional\n",
    "        Defines minimum and maximum yvalues plotted.\n",
    "\n",
    "    cv : integer, cross-validation generator, optional\n",
    "        If an integer is passed, it is the number of folds (defaults to 3).\n",
    "        Specific cross-validation objects can be passed, see\n",
    "        sklearn.cross_validation module for the list of possible objects\n",
    "\n",
    "    n_jobs : integer, optional\n",
    "        Number of jobs to run in parallel (default 1).\n",
    "    \"\"\"\n",
    "    plt.figure()\n",
    "    plt.title(title)\n",
    "    if ylim is not None:\n",
    "        plt.ylim(*ylim)\n",
    "    plt.xlabel(\"Training examples\")\n",
    "    plt.ylabel(\"Score\")\n",
    "    train_sizes, train_scores, test_scores = learning_curve(\n",
    "        estimator, X, y, cv=cv, n_jobs=n_jobs, train_sizes=train_sizes)\n",
    "    train_scores_mean = np.mean(train_scores, axis=1)\n",
    "    train_scores_std = np.std(train_scores, axis=1)\n",
    "    test_scores_mean = np.mean(test_scores, axis=1)\n",
    "    test_scores_std = np.std(test_scores, axis=1)\n",
    "    plt.grid()\n",
    "\n",
    "    plt.fill_between(train_sizes, train_scores_mean - train_scores_std,\n",
    "                     train_scores_mean + train_scores_std, alpha=0.1,\n",
    "                     color=\"r\")\n",
    "    plt.fill_between(train_sizes, test_scores_mean - test_scores_std,\n",
    "                     test_scores_mean + test_scores_std, alpha=0.1, color=\"b\")\n",
    "    plt.plot(train_sizes, train_scores_mean, 'o-', color=\"r\",\n",
    "             label=\"Training score\")\n",
    "    plt.plot(train_sizes, test_scores_mean, 'o-', color=\"b\",\n",
    "             label=\"Cross-validation score\")\n",
    "\n",
    "    plt.legend(loc=\"best\")\n",
    "    return plt"
   ]
  },
  {
   "cell_type": "code",
   "execution_count": 26,
   "metadata": {
    "collapsed": false
   },
   "outputs": [
    {
     "name": "stdout",
     "output_type": "stream",
     "text": [
      "CPU times: user 204 ms, sys: 48.1 ms, total: 252 ms\n",
      "Wall time: 896 ms\n"
     ]
    },
    {
     "data": {
      "text/plain": [
       "<module 'matplotlib.pyplot' from '/Users/Maronato/anaconda/lib/python3.5/site-packages/matplotlib/pyplot.py'>"
      ]
     },
     "execution_count": 26,
     "metadata": {},
     "output_type": "execute_result"
    },
    {
     "data": {
      "image/png": "[encoded data removed]",
      "text/plain": [
       "<matplotlib.figure.Figure at 0x11df217f0>"
      ]
     },
     "metadata": {},
     "output_type": "display_data"
    }
   ],
   "source": [
    "%time plot_learning_curve(pipeline, \"accuracy vs. training set size\", msg_train, label_train, cv=5)"
   ]
  },
  {
   "cell_type": "markdown",
   "metadata": {},
   "source": [
    "This shows us that we still have a lot to fix in our dataset, but the more data we collect, the better our predictions may become.\n",
    "\n",
    "But what if our pipeline is not ideal? We can evaluate it by doing a grid search on various possible parameters.\n",
    "\n",
    "The code below will try every permutation of pipeline parameter available and print the best performing one"
   ]
  },
  {
   "cell_type": "code",
   "execution_count": 27,
   "metadata": {
    "collapsed": false
   },
   "outputs": [
    {
     "name": "stdout",
     "output_type": "stream",
     "text": [
      "CPU times: user 2.14 s, sys: 115 ms, total: 2.25 s\n",
      "Wall time: 22.8 s\n",
      "mean: 0.69764, std: 0.01964, params: {'vectorizer__analyzer': 'word', 'vectorizer__stop_words': None, 'vectorizer__ngram_range': (1, 1), 'tfidf__use_idf': True, 'vectorizer__strip_accents': 'ascii'}\n"
     ]
    }
   ],
   "source": [
    "params = {\n",
    "    'tfidf__use_idf': (True, False),\n",
    "    'vectorizer__analyzer': ('word', 'char', 'char_wb'),\n",
    "    'vectorizer__stop_words': (stopwords, None),\n",
    "    'vectorizer__ngram_range': ((1, 1), (1, 2), (1, 3)),\n",
    "    'vectorizer__strip_accents': ('ascii', 'unicode', None),\n",
    "}\n",
    "\n",
    "grid = GridSearchCV(\n",
    "    pipeline,  # pipeline from above\n",
    "    params,  # parameters to tune via cross validation\n",
    "    refit=True,  # fit using all available data at the end, on the best found param combination\n",
    "    n_jobs=-1,  # number of cores to use for parallelization; -1 for \"all cores\"\n",
    "    scoring='accuracy',  # what score are we optimizing?\n",
    "    cv=StratifiedKFold(label_train, n_folds=5),  # what type of cross validation to use\n",
    ")\n",
    "\n",
    "if check_best_params:\n",
    "    %time nb_detector = grid.fit(msg_train, label_train)\n",
    "    print(max(nb_detector.grid_scores_, key=lambda x:x[1]))\n",
    "else:\n",
    "    print(\"Skipped\")"
   ]
  },
  {
   "cell_type": "markdown",
   "metadata": {},
   "source": [
    "Remeber, tho, that here we are only predicting if a spotted is to be approved or rejected.\n",
    "\n",
    "We also have data to predict *why* said spotted will be rejected, so let us put that to use\n",
    "\n",
    "# Predicting Reasons\n",
    "\n",
    "predicting reasons should be very straightfoward and a lot of our previous code can be reused\n",
    "\n",
    "We start by creating another bag of words"
   ]
  },
  {
   "cell_type": "code",
   "execution_count": 28,
   "metadata": {
    "collapsed": false
   },
   "outputs": [
    {
     "name": "stdout",
     "output_type": "stream",
     "text": [
      "(370, 18539)\n"
     ]
    }
   ],
   "source": [
    "# Since we are not using dataframes we need to create a list of words\n",
    "rejected_detail = rand_reindex(rejected_detail)\n",
    "\n",
    "# Then we fit and transform it to create our bag of words\n",
    "rej_count_transformer = count_vectorizer.fit(rejected_detail['message'])\n",
    "rej_bag_o_words = count_transformer.transform(rejected_detail['message'])\n",
    "\n",
    "print(rej_bag_o_words.shape)"
   ]
  },
  {
   "cell_type": "code",
   "execution_count": 29,
   "metadata": {
    "collapsed": false
   },
   "outputs": [
    {
     "name": "stdout",
     "output_type": "stream",
     "text": [
      "(370, 18539)\n"
     ]
    }
   ],
   "source": [
    "rej_tfidf_transformer = TfidfTransformer().fit(rej_bag_o_words)\n",
    "\n",
    "rej_norm_bag_o_words = rej_tfidf_transformer.transform(rej_bag_o_words)\n",
    "\n",
    "print(rej_norm_bag_o_words.shape)"
   ]
  },
  {
   "cell_type": "code",
   "execution_count": 30,
   "metadata": {
    "collapsed": false
   },
   "outputs": [
    {
     "name": "stdout",
     "output_type": "stream",
     "text": [
      "CPU times: user 4.37 ms, sys: 1.74 ms, total: 6.11 ms\n",
      "Wall time: 5.09 ms\n"
     ]
    }
   ],
   "source": [
    "%time reason_predictor = MultinomialNB().fit(rej_norm_bag_o_words, rejected_detail['reason'])"
   ]
  },
  {
   "cell_type": "code",
   "execution_count": 31,
   "metadata": {
    "collapsed": false
   },
   "outputs": [
    {
     "name": "stdout",
     "output_type": "stream",
     "text": [
      "['Spam' 'Off-topic' 'Off-topic' 'Off-topic' 'Spam' 'Ofensivo' 'Ofensivo'\n",
      " 'Obsceno' 'Spam' 'Spam']\n"
     ]
    }
   ],
   "source": [
    "rej_predictions = reason_predictor.predict(rej_norm_bag_o_words)\n",
    "print(rej_predictions[:10])"
   ]
  },
  {
   "cell_type": "code",
   "execution_count": 32,
   "metadata": {
    "collapsed": false
   },
   "outputs": [
    {
     "name": "stdout",
     "output_type": "stream",
     "text": [
      "accuracy 0.940540540541\n",
      "confusion matrix\n",
      " [[ 21   0   2   0  14]\n",
      " [  0  40   2   0   4]\n",
      " [  0   0  94   0   0]\n",
      " [  0   0   0  87   0]\n",
      " [  0   0   0   0 106]]\n",
      "\n"
     ]
    },
    {
     "data": {
      "text/plain": [
       "<matplotlib.text.Text at 0x11e6640b8>"
      ]
     },
     "execution_count": 32,
     "metadata": {},
     "output_type": "execute_result"
    },
    {
     "data": {
      "image/png": "[encoded data removed]",
      "text/plain": [
       "<matplotlib.figure.Figure at 0x11ea42630>"
      ]
     },
     "metadata": {},
     "output_type": "display_data"
    }
   ],
   "source": [
    "print('accuracy', accuracy_score(rejected_detail['reason'], rej_predictions))\n",
    "print('confusion matrix\\n', confusion_matrix(rejected_detail['reason'], rej_predictions))\n",
    "print()\n",
    "plt.matshow(confusion_matrix(rejected_detail['reason'], rej_predictions), cmap=plt.cm.binary, interpolation='nearest')\n",
    "plt.title('confusion matrix')\n",
    "plt.colorbar()\n",
    "plt.ylabel('expected label')\n",
    "plt.xlabel('predicted label')"
   ]
  },
  {
   "cell_type": "code",
   "execution_count": 33,
   "metadata": {
    "collapsed": false
   },
   "outputs": [
    {
     "name": "stdout",
     "output_type": "stream",
     "text": [
      "             precision    recall  f1-score   support\n",
      "\n",
      " Depressivo       1.00      0.57      0.72        37\n",
      "    Obsceno       1.00      0.87      0.93        46\n",
      "   Ofensivo       0.96      1.00      0.98        94\n",
      "  Off-topic       1.00      1.00      1.00        87\n",
      "       Spam       0.85      1.00      0.92       106\n",
      "\n",
      "avg / total       0.95      0.94      0.94       370\n",
      "\n"
     ]
    }
   ],
   "source": [
    "print(classification_report(rejected_detail['reason'], rej_predictions))"
   ]
  },
  {
   "cell_type": "code",
   "execution_count": 34,
   "metadata": {
    "collapsed": true
   },
   "outputs": [],
   "source": [
    "msg_train, msg_test, label_train, label_test = train_test_split(rejected_detail['message'], rejected_detail['reason'], test_size=0.2)"
   ]
  },
  {
   "cell_type": "code",
   "execution_count": 35,
   "metadata": {
    "collapsed": false
   },
   "outputs": [
    {
     "name": "stdout",
     "output_type": "stream",
     "text": [
      "[ 0.32258065  0.41935484  0.43333333  0.33333333  0.5         0.46666667\n",
      "  0.48275862  0.4137931   0.48275862  0.44444444]\n",
      "\n",
      "0.429902360648 0.0576978262188\n"
     ]
    }
   ],
   "source": [
    "scores = cross_val_score(pipeline,\n",
    "                         msg_train,\n",
    "                         label_train,\n",
    "                         cv=10,\n",
    "                         scoring='accuracy',\n",
    "                         n_jobs=-1,\n",
    "                         )\n",
    "print(scores)\n",
    "print()\n",
    "print(scores.mean(), scores.std())"
   ]
  },
  {
   "cell_type": "code",
   "execution_count": 36,
   "metadata": {
    "collapsed": false
   },
   "outputs": [
    {
     "name": "stdout",
     "output_type": "stream",
     "text": [
      "CPU times: user 317 ms, sys: 61 ms, total: 378 ms\n",
      "Wall time: 1.19 s\n"
     ]
    },
    {
     "data": {
      "text/plain": [
       "<module 'matplotlib.pyplot' from '/Users/Maronato/anaconda/lib/python3.5/site-packages/matplotlib/pyplot.py'>"
      ]
     },
     "execution_count": 36,
     "metadata": {},
     "output_type": "execute_result"
    },
    {
     "data": {
      "image/png": "[encoded data removed]",
      "text/plain": [
       "<matplotlib.figure.Figure at 0x11e42b8d0>"
      ]
     },
     "metadata": {},
     "output_type": "display_data"
    }
   ],
   "source": [
    "%time plot_learning_curve(pipeline, \"accuracy vs. training set size\", msg_train, label_train, cv=10)"
   ]
  },
  {
   "cell_type": "markdown",
   "metadata": {},
   "source": [
    "As you can see, our prediction is pretty bad. It's a lot better than luck, anyway, and our dataset is pretty lacking.\n",
    "\n",
    "But we can try more. Let's try\n",
    "\n",
    "# SVMs\n",
    "\n",
    "SVMs are another option that we can try. Let's jump to the fun part and evaluate the best possible parameters and check how they perform when compared to NB"
   ]
  },
  {
   "cell_type": "code",
   "execution_count": 37,
   "metadata": {
    "collapsed": false
   },
   "outputs": [
    {
     "name": "stdout",
     "output_type": "stream",
     "text": [
      "CPU times: user 580 ms, sys: 62.4 ms, total: 642 ms\n",
      "Wall time: 3.35 s\n",
      "mean: 0.62331, std: 0.06285, params: {'classifier__C': 1, 'classifier__kernel': 'linear'}\n"
     ]
    }
   ],
   "source": [
    "# Generate new training and testing sets\n",
    "msg_train, msg_test, label_train, label_test = train_test_split(spotteds['message'], spotteds['reason'], test_size=0.2)\n",
    "\n",
    "pipeline_svm = Pipeline([\n",
    "    ('vectorizer', CountVectorizer(strip_accents='ascii', lowercase=False, analyzer='word', stop_words=stopwords, ngram_range=(1, 3))),\n",
    "    ('tfidf', TfidfTransformer(use_idf=False)),\n",
    "    ('classifier', SVC(C=1, kernel='linear')),\n",
    "])\n",
    "\n",
    "# pipeline parameters to automatically explore and tune\n",
    "param_svm = [\n",
    "  {'classifier__C': [1, 10, 100, 1000], 'classifier__kernel': ['linear']},\n",
    "  {'classifier__C': [1, 10, 100, 1000], 'classifier__gamma': [0.001, 0.0001], 'classifier__kernel': ['rbf']},\n",
    "]\n",
    "\n",
    "grid_svm = GridSearchCV(\n",
    "    pipeline_svm,  # pipeline from above\n",
    "    param_grid=param_svm,  # parameters to tune via cross validation\n",
    "    refit=True,  # fit using all data, on the best detected classifier\n",
    "    n_jobs=-1,  # number of cores to use for parallelization; -1 for \"all cores\"\n",
    "    scoring='accuracy',  # what score are we optimizing?\n",
    "    cv=StratifiedKFold(label_train, n_folds=5),  # what type of cross validation to use\n",
    ")\n",
    "\n",
    "\n",
    "%time svm_detector = grid_svm.fit(msg_train, label_train)\n",
    "print(max(svm_detector.grid_scores_, key=lambda x:x[1]))"
   ]
  },
  {
   "cell_type": "code",
   "execution_count": 38,
   "metadata": {
    "collapsed": false
   },
   "outputs": [
    {
     "name": "stdout",
     "output_type": "stream",
     "text": [
      "accuracy 0.621621621622\n",
      "confusion matrix\n",
      " [[42 32]\n",
      " [24 50]]\n",
      "\n"
     ]
    },
    {
     "data": {
      "text/plain": [
       "<matplotlib.text.Text at 0x11f505908>"
      ]
     },
     "execution_count": 38,
     "metadata": {},
     "output_type": "execute_result"
    },
    {
     "data": {
      "image/png": "[encoded data removed]",
      "text/plain": [
       "<matplotlib.figure.Figure at 0x119d6e4e0>"
      ]
     },
     "metadata": {},
     "output_type": "display_data"
    }
   ],
   "source": [
    "svm_predictions = svm_detector.predict(msg_test)\n",
    "print('accuracy', accuracy_score(label_test, svm_predictions))\n",
    "print('confusion matrix\\n', confusion_matrix(label_test, svm_predictions))\n",
    "print()\n",
    "plt.matshow(confusion_matrix(label_test, svm_predictions), cmap=plt.cm.binary, interpolation='nearest')\n",
    "plt.title('confusion matrix')\n",
    "plt.colorbar()\n",
    "plt.ylabel('expected label')\n",
    "plt.xlabel('predicted label')"
   ]
  },
  {
   "cell_type": "markdown",
   "metadata": {},
   "source": [
    "A little better, huh?\n",
    "\n",
    "Maybe if we combine the two together and then create multiple layers of them both, and maybe if we iteratively train vectors with other parameters and input them into our _network_\n",
    "\n",
    "uh! uh! Maybe if we create a custom _tokenizer_ so that 'vc' and 'você' are tokenized as one! That ought to yield better results, right?\n",
    "\n",
    "# Further analysis\n",
    "\n",
    "Our models are rather ok, but we can make them better. Main focus of development are:\n",
    "\n",
    "- Custom Tokenizer\n",
    "- Clean dataset\n",
    "- Explore other models\n",
    "- Explore neural nets"
   ]
  }
 ],
 "metadata": {
  "anaconda-cloud": {},
  "kernelspec": {
   "display_name": "Python [conda root]",
   "language": "python",
   "name": "conda-root-py"
  },
  "language_info": {
   "codemirror_mode": {
    "name": "ipython",
    "version": 3
   },
   "file_extension": ".py",
   "mimetype": "text/x-python",
   "name": "python",
   "nbconvert_exporter": "python",
   "pygments_lexer": "ipython3",
   "version": "3.5.2"
  }
 },
 "nbformat": 4,
 "nbformat_minor": 1
}
