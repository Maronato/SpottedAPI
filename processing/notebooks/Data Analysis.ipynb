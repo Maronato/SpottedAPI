{
 "cells": [
  {
   "cell_type": "code",
   "execution_count": 167,
   "metadata": {
    "collapsed": false
   },
   "outputs": [],
   "source": [
    "%matplotlib inline\n",
    "import psycopg2\n",
    "import urllib.parse as urlparse\n",
    "import pandas as pd\n",
    "import numpy as np\n",
    "import matplotlib.pyplot as plt\n",
    "from sklearn.feature_extraction.text import CountVectorizer\n",
    "from sklearn.naive_bayes import MultinomialNB\n",
    "from sklearn.pipeline import Pipeline\n",
    "from sklearn.cross_validation import KFold\n",
    "from sklearn.metrics import confusion_matrix, f1_score, accuracy_score, classification_report\n",
    "from sklearn.cross_validation import StratifiedKFold, cross_val_score, train_test_split \n",
    "import requests\n",
    "import re\n",
    "from nltk.tokenize import RegexpTokenizer\n",
    "from sklearn.feature_extraction.text import TfidfTransformer\n",
    "from sklearn.base import TransformerMixin\n",
    "from sklearn.learning_curve import learning_curve\n",
    "from sklearn.grid_search import GridSearchCV\n",
    "from sklearn.svm import SVC, LinearSVC"
   ]
  },
  {
   "cell_type": "markdown",
   "metadata": {},
   "source": [
    "# Connecting to the database"
   ]
  },
  {
   "cell_type": "code",
   "execution_count": 168,
   "metadata": {
    "collapsed": false
   },
   "outputs": [],
   "source": [
    "postgres_url = \"\" # Hidden\n",
    "\n",
    "url = urlparse.urlparse(postgres_url)\n",
    "dbname = url.path[1:]\n",
    "user = url.username\n",
    "password = url.password\n",
    "host = url.hostname\n",
    "port = url.port\n",
    "psql = psycopg2.connect(\n",
    "            dbname=dbname,\n",
    "            user=user,\n",
    "            password=password,\n",
    "            host=host,\n",
    "            port=port,\n",
    "            sslmode='require'\n",
    "            )\n",
    "cursor = psql.cursor()"
   ]
  },
  {
   "cell_type": "markdown",
   "metadata": {
    "collapsed": false
   },
   "source": [
    "# Loading tables"
   ]
  },
  {
   "cell_type": "code",
   "execution_count": 169,
   "metadata": {
    "collapsed": false
   },
   "outputs": [],
   "source": [
    "cursor.execute(\"SELECT message, reason, suggestion FROM datasets_rejected\")\n",
    "raw_reject = cursor.fetchall()\n",
    "df_rejected = pd.DataFrame([[x[0], 'reprovado'] for x in raw_reject], columns=['message', 'reason'])\n",
    "df_rejected_detail = pd.DataFrame([[x[0], x[1]] for x in raw_reject], columns=['message', 'reason'])\n",
    "\n",
    "cursor.execute(\"SELECT message, suggestion FROM datasets_approved\")\n",
    "raw_approved = cursor.fetchall()\n",
    "df_approved = pd.DataFrame([[x[0], \"aprovado\"] for x in raw_approved], columns=['message', \"reason\"])"
   ]
  },
  {
   "cell_type": "markdown",
   "metadata": {},
   "source": [
    "# Helpers"
   ]
  },
  {
   "cell_type": "code",
   "execution_count": 170,
   "metadata": {
    "collapsed": true
   },
   "outputs": [],
   "source": [
    "def get_data(approved=True, detail=False):\n",
    "    \"\"\"Get Data\n",
    "    returns a numpy array of dicts containing spotteds as specified\n",
    "\n",
    "    approved: approved or rejected spotteds\n",
    "    detail: wether or not to return the detailed reject reason\n",
    "    \"\"\"\n",
    "\n",
    "    if approved:\n",
    "        data = raw_approved\n",
    "    else:\n",
    "        data = raw_reject\n",
    "\n",
    "    arr = np.empty(shape=(len(data)), dtype=dict)\n",
    "\n",
    "    for n, i in enumerate(data):\n",
    "        if approved:\n",
    "            arr[n] = {'message': i[0], 'reason': 'approved', 'suggestion': i[1]}\n",
    "        else:\n",
    "            arr[n] = {'message': i[0], 'reason': 'rejected' if not detail else i[1], 'suggestion': i[2]}\n",
    "\n",
    "    return arr\n",
    "\n",
    "\n",
    "def rand_reindex(arr):\n",
    "    \"\"\"Random reindex\n",
    "    randomly reindexes an array\n",
    "    \"\"\"\n",
    "\n",
    "    rand = np.arange(len(arr))\n",
    "    np.random.shuffle(rand)\n",
    "    return arr[rand]\n",
    "\n",
    "\n",
    "def merge_data(approved, rejected, ratio=1):\n",
    "    \"\"\"Merge data\n",
    "    merges approved and rejected arrays using a ratio to size the approved ones\n",
    "    also reindexes them\n",
    "    \"\"\"\n",
    "\n",
    "    approved = rand_reindex(approved)\n",
    "    approved = approved[:(round(len(rejected) * ratio))]\n",
    "    return rand_reindex(np.append(approved, rejected))\n",
    "\n",
    "\n",
    "def stop_words():\n",
    "    response = requests.get(\"https://gist.githubusercontent.com/alopes/5358189/raw/2107d809cca6b83ce3d8e04dbd9463283025284f/stopwords.txt\")\n",
    "    return response.text.split()\n"
   ]
  },
  {
   "cell_type": "markdown",
   "metadata": {},
   "source": [
    "# Converting tables to variables"
   ]
  },
  {
   "cell_type": "code",
   "execution_count": 171,
   "metadata": {
    "collapsed": false
   },
   "outputs": [],
   "source": [
    "approved = get_data()\n",
    "rejected = get_data(False)\n",
    "rejected_detail = get_data(False, True)\n",
    "stopwords = stop_words()"
   ]
  },
  {
   "cell_type": "markdown",
   "metadata": {},
   "source": [
    "# The dataset in numbers"
   ]
  },
  {
   "cell_type": "code",
   "execution_count": 172,
   "metadata": {
    "collapsed": true
   },
   "outputs": [],
   "source": [
    "reject_options = set(df_rejected_detail['reason'])\n",
    "reject_numbers = [(x, len(df_rejected_detail[df_rejected_detail.reason.isin([x])])) for x in reject_options]"
   ]
  },
  {
   "cell_type": "code",
   "execution_count": 173,
   "metadata": {
    "collapsed": false
   },
   "outputs": [
    {
     "data": {
      "image/png": "[encoded data removed]",
      "text/plain": [
       "<matplotlib.figure.Figure at 0x11fb0b400>"
      ]
     },
     "metadata": {},
     "output_type": "display_data"
    }
   ],
   "source": [
    "plt.bar(range(2), [len(df_approved), len(df_rejected)], align='center')\n",
    "plt.xticks(range(2), [\"Aprovado\", \"Reprovado\"], size='large')\n",
    "plt.show()"
   ]
  },
  {
   "cell_type": "code",
   "execution_count": 174,
   "metadata": {
    "collapsed": false
   },
   "outputs": [
    {
     "data": {
      "image/png": "[encoded data removed]",
      "text/plain": [
       "<matplotlib.figure.Figure at 0x11ff633c8>"
      ]
     },
     "metadata": {},
     "output_type": "display_data"
    }
   ],
   "source": [
    "plt.bar(range(len(reject_numbers)), [x[1] for x in reject_numbers], align='center')\n",
    "plt.xticks(range(len(reject_numbers)), [x[0] for x in reject_numbers], size='large', rotation=90)\n",
    "plt.show()"
   ]
  },
  {
   "cell_type": "markdown",
   "metadata": {},
   "source": [
    "Let's take a closer look at the rejected spotteds"
   ]
  },
  {
   "cell_type": "code",
   "execution_count": 175,
   "metadata": {
    "collapsed": false
   },
   "outputs": [
    {
     "name": "stdout",
     "output_type": "stream",
     "text": [
      "                                                                                  message\n",
      "reason                                                                                   \n",
      "Bullying individual             count                                                   2\n",
      "                                unique                                                  2\n",
      "                                top     Calixto é muito foda de ver namorando passar p...\n",
      "                                freq                                                    1\n",
      "Conteúdo comercial              count                                                  11\n",
      "                                unique                                                 11\n",
      "                                top     Quero saber dos roles em repúplicas que vão ac...\n",
      "                                freq                                                    1\n",
      "Corrente ou spam                count                                                  19\n",
      "                                unique                                                 19\n",
      "                                top     Ouvi dizer que ECA + FEAGRI dá bom, marquem aq...\n",
      "                                freq                                                    1\n",
      "Depressivo                      count                                                  36\n",
      "                                unique                                                 36\n",
      "                                top     Vocês já repararam que os spotteds são sempre ...\n",
      "                                freq                                                    1\n",
      "Flood                           count                                                  78\n",
      "                                unique                                                 77\n",
      "                                top     [AJUDA] [GRITO SILENCIOSO]\\r\\n\\r\\nDe: SOBREVIV...\n",
      "                                freq                                                    2\n",
      "Inadequado                      count                                                  58\n",
      "                                unique                                                 58\n",
      "                                top      Galera me ajudem a achar algum role quarta feira\n",
      "                                freq                                                    1\n",
      "Não quero escolher outro motivo count                                                  29\n",
      "                                unique                                                 29\n",
      "                                top     Menina de franja da FEF, acho que é Giovanna s...\n",
      "                                freq                                                    1\n",
      "Obsceno                         count                                                  38\n",
      "                                unique                                                 37\n",
      "                                top     Moço hetero, da informática,  32 anos, 182 cm,...\n",
      "                                freq                                                    2\n",
      "Obsceno ou Assédio              count                                                   5\n",
      "                                unique                                                  5\n",
      "                                top     Calixto é muito foda de ver namorando passar p...\n",
      "                                freq                                                    1\n",
      "Ofensivo                        count                                                  76\n",
      "                                unique                                                 75\n",
      "                                top     https://media.giphy.com/media/13wdfW1swTI7GE/g...\n",
      "                                freq                                                    2\n",
      "Ofensivo ou Ódio                count                                                  11\n",
      "                                unique                                                 10\n",
      "                                top     Eu pensei muito antes de mandar esse spotted, ...\n",
      "                                freq                                                    2\n",
      "Off-topic                       count                                                  87\n",
      "                                unique                                                 85\n",
      "                                top     \"Estas alegrias violentas têm fins violentos\\r...\n",
      "                                freq                                                    2\n",
      "Outro                           count                                                  87\n",
      "                                unique                                                 86\n",
      "                                top                                        Quero transar!\n",
      "                                freq                                                    2\n",
      "Repetido                        count                                                  64\n",
      "                                unique                                                 60\n",
      "                                top     Meninas, procuro uma crush para meu amiguinho ...\n",
      "                                freq                                                    2\n",
      "Spam                            count                                                  58\n",
      "                                unique                                                 58\n",
      "                                top     Agora você é apenas alguém que eu conheci.\\r\\n...\n",
      "                                freq                                                    1\n"
     ]
    }
   ],
   "source": [
    "print(df_rejected_detail.groupby('reason').describe())"
   ]
  },
  {
   "cell_type": "markdown",
   "metadata": {},
   "source": [
    "# More numbers\n",
    "\n",
    "lets take a look at the top messages' lengths"
   ]
  },
  {
   "cell_type": "code",
   "execution_count": 176,
   "metadata": {
    "collapsed": false
   },
   "outputs": [
    {
     "name": "stdout",
     "output_type": "stream",
     "text": [
      "                                                message    reason  length\n",
      "2661  Muitos duvidam da existência do amor. Muitos a...  aprovado    4185\n",
      "2301  De JTR pra uma pessoa especial\\r\\nNão vou dize...  aprovado    3749\n",
      "4402  Acho que muitos spotteds aqui tem o mesmo moti...  aprovado    3573\n",
      "1507  Não sou dono de nenhuma verdade e passo bem lo...  aprovado    3558\n",
      "4303  Talvez você não leia isso, mas talvez futurame...  aprovado    2776\n"
     ]
    }
   ],
   "source": [
    "df_messages = df_approved.append(df_rejected)\n",
    "df_messages['length'] = df_messages['message'].map(lambda text: len(text))\n",
    "print(df_messages.sort_values(by='length', ascending=0).head())"
   ]
  },
  {
   "cell_type": "markdown",
   "metadata": {},
   "source": [
    "### What is this super long message?"
   ]
  },
  {
   "cell_type": "code",
   "execution_count": 177,
   "metadata": {
    "collapsed": false
   },
   "outputs": [
    {
     "name": "stdout",
     "output_type": "stream",
     "text": [
      "Muitos duvidam da existência do amor. Muitos afirmam ser ele uma invenção da literatura. Outros, que se trata de uma projeção neurótica imaginária. Uma patologia da família das manias. Há quem suspeite de que seja uma doença da alma. Estão errados. \r\n",
      "\r\n",
      "Quem conhece o amor sabe que ele habita entre nós. E sua presença nos faz sentir vivos. Por isso, o ressentimento é cego ao amor. Pode ser raro, randômico, frágil muitas vezes, mas nem por isso menos marcante quando percebido. \r\n",
      "\r\n",
      "Este é o tema do filme sueco \"Um Homem Chamado Ove\", de Hannes Holm, que foi indicado para melhor filme estrangeiro no Oscar deste ano. O cinema escandinavo está sempre entre os melhores do mundo. Poucos lidam com temas do afeto de forma tão elegante, do desespero à beleza, mas sempre elegante. \r\n",
      "\r\n",
      "A história é um clássico: a morte de uma esposa amada e a solidão decorrente. O filme narra a \"cura\" do homem chamado Ove, principalmente, pelas mãos de sua vizinha grávida iraniana, e suas filhas, além de todos os vizinhos em volta, lembrando, em muitas cenas, uma máxima rabínica: Deus está nos detalhes. \r\n",
      "\r\n",
      "E o Messias entra pela fresta da porta. O amor também, como diz o livro bíblico \"Cântico dos Cânticos\". A falta de atenção para com os detalhes torna qualquer pessoa obcecada pela falta de sentido das coisas. A delicadeza é a virtude cognitiva necessária para a percepção do amor no mundo.\r\n",
      "Só quem conhece o amor sabe o desespero que pode ser perder a quem se ama. O amor é incomum. \r\n",
      "\r\n",
      "Claro, nada tem a ver necessariamente com o casamento. Pode, inclusive, morrer pelas mãos do casamento. Casa-se com quem se ama porque o amor pede o convívio. A presença viva de que ele existe. \r\n",
      "\r\n",
      "Estar longe de quem se ama implica numa falta que beira a asfixia. Na verdade, o amor está entre as formas mais poderosas de significado na vida. E vai muito além do amor romântico propriamente dito. \r\n",
      "\r\n",
      "A percepção repentina do amor pode dar a quem o vê a sensação de estar diante de um milagre, dado a sua leveza, humildade e generosidade. \r\n",
      "\r\n",
      "A falta de amor na vida produz um certo ceticismo em relação ao mundo. Ou pior: o sentimento de inexistência. O mundo fica escuro, e você, vazio. A falta de amor beira a descrença. Perde-se a confiança nas coisas. Mesmo nas árvores e nos pássaros. \r\n",
      "\r\n",
      "Um dos pecados maiores da inteligência é chegar à conclusão de que o amor é uma ficção. Mas não é a inteligência que aí fala, mas a tristeza de um coração em agonia.\r\n",
      "\r\n",
      "Muitas vezes, pessoas supostamente inteligentes consideram o amor algo ingênuo e pueril. E quem ama, um equivocado. \r\n",
      "\r\n",
      "Não há razões pra amar, uma vez que o mundo parece provar a cada minuto que ele é o terreno da raiva, do rancor e do ressentimento. A ciência do mundo parece mesmo ser um tratado sobre a desconfiança.\r\n",
      "\r\n",
      "Søren Kierkegaard (1813-1855), em seu \"As Obras do Amor\", da editora Vozes, alerta aos inteligentes que não confundam o amor com alguma forma de ignorância da mentira e dos riscos. \r\n",
      "\r\n",
      "A desconfiança se acha a mais completa das virtudes morais ou cognitivas. A armadilha de quem desconfia sempre é que ele mesmo se sente inexistente para o mundo porque este é sempre visto com desprezo. É da natureza do amor olhar para fora e não para dentro. O amor não é apaixonado por si mesmo. \r\n",
      "\r\n",
      "Outra suposta arma contra o amor é o fato de a hipocrisia reinar no mundo. A hipótese de a hipocrisia ser a substância da moral pública parece inviabilizar o amor por conta de sua cegueira para com esta hipocrisia mesma. \r\n",
      "\r\n",
      "É verdade: o amor não vê a hipocrisia. Kierkegaard diz que há um \"abismo escancarado\" entre eles. Este abismo é de natureza, isto é, a diferença de postura entre os dois torna o amor tão distante da hipocrisia, que sua pantomima, fruto do desprezo pelas coisas, é invisível aos olhos do amor que une as coisas. \r\n",
      "\r\n",
      "O amor é concreto como o dia a dia. Engana-se quem o considera abstrato e fantasioso. Kierkegaard nos lembra em seu primeiro ensaio como o amor só se conhece pelos frutos. Isso implica que não há propriamente uma percepção do amor que não seja prática. O gosto do amor é a confiança nas coisas que ele dá a quem o experimenta. \r\n",
      "\r\n",
      "\r\n",
      "Texto publicado na Folha em 27/03 - Luiz Felipe Pondé.\n"
     ]
    }
   ],
   "source": [
    "print(df_messages.sort_values(by='length', ascending=0).iloc[0]['message'])"
   ]
  },
  {
   "cell_type": "markdown",
   "metadata": {},
   "source": [
    "### What is the difference in approved and rejected?"
   ]
  },
  {
   "cell_type": "code",
   "execution_count": 178,
   "metadata": {
    "collapsed": false
   },
   "outputs": [
    {
     "data": {
      "text/plain": [
       "array([<matplotlib.axes._subplots.AxesSubplot object at 0x11ff59c88>,\n",
       "       <matplotlib.axes._subplots.AxesSubplot object at 0x12006fcf8>], dtype=object)"
      ]
     },
     "execution_count": 178,
     "metadata": {},
     "output_type": "execute_result"
    },
    {
     "data": {
      "image/png": "[encoded data removed]",
      "text/plain": [
       "<matplotlib.figure.Figure at 0x11fabac18>"
      ]
     },
     "metadata": {},
     "output_type": "display_data"
    }
   ],
   "source": [
    "df_messages.hist(column='length', by='reason', bins=25)"
   ]
  },
  {
   "cell_type": "markdown",
   "metadata": {},
   "source": [
    "### What else can we learn about them?"
   ]
  },
  {
   "cell_type": "code",
   "execution_count": 179,
   "metadata": {
    "collapsed": false
   },
   "outputs": [
    {
     "data": {
      "text/html": [
       "<div>\n",
       "<table border=\"1\" class=\"dataframe\">\n",
       "  <thead>\n",
       "    <tr style=\"text-align: right;\">\n",
       "      <th></th>\n",
       "      <th></th>\n",
       "      <th>length</th>\n",
       "    </tr>\n",
       "    <tr>\n",
       "      <th>reason</th>\n",
       "      <th></th>\n",
       "      <th></th>\n",
       "    </tr>\n",
       "  </thead>\n",
       "  <tbody>\n",
       "    <tr>\n",
       "      <th rowspan=\"8\" valign=\"top\">aprovado</th>\n",
       "      <th>count</th>\n",
       "      <td>5010.000000</td>\n",
       "    </tr>\n",
       "    <tr>\n",
       "      <th>mean</th>\n",
       "      <td>207.545908</td>\n",
       "    </tr>\n",
       "    <tr>\n",
       "      <th>std</th>\n",
       "      <td>252.114736</td>\n",
       "    </tr>\n",
       "    <tr>\n",
       "      <th>min</th>\n",
       "      <td>1.000000</td>\n",
       "    </tr>\n",
       "    <tr>\n",
       "      <th>25%</th>\n",
       "      <td>81.000000</td>\n",
       "    </tr>\n",
       "    <tr>\n",
       "      <th>50%</th>\n",
       "      <td>137.000000</td>\n",
       "    </tr>\n",
       "    <tr>\n",
       "      <th>75%</th>\n",
       "      <td>233.750000</td>\n",
       "    </tr>\n",
       "    <tr>\n",
       "      <th>max</th>\n",
       "      <td>4185.000000</td>\n",
       "    </tr>\n",
       "    <tr>\n",
       "      <th rowspan=\"8\" valign=\"top\">reprovado</th>\n",
       "      <th>count</th>\n",
       "      <td>659.000000</td>\n",
       "    </tr>\n",
       "    <tr>\n",
       "      <th>mean</th>\n",
       "      <td>223.449165</td>\n",
       "    </tr>\n",
       "    <tr>\n",
       "      <th>std</th>\n",
       "      <td>319.522599</td>\n",
       "    </tr>\n",
       "    <tr>\n",
       "      <th>min</th>\n",
       "      <td>1.000000</td>\n",
       "    </tr>\n",
       "    <tr>\n",
       "      <th>25%</th>\n",
       "      <td>73.000000</td>\n",
       "    </tr>\n",
       "    <tr>\n",
       "      <th>50%</th>\n",
       "      <td>129.000000</td>\n",
       "    </tr>\n",
       "    <tr>\n",
       "      <th>75%</th>\n",
       "      <td>235.500000</td>\n",
       "    </tr>\n",
       "    <tr>\n",
       "      <th>max</th>\n",
       "      <td>2562.000000</td>\n",
       "    </tr>\n",
       "  </tbody>\n",
       "</table>\n",
       "</div>"
      ],
      "text/plain": [
       "                      length\n",
       "reason                      \n",
       "aprovado  count  5010.000000\n",
       "          mean    207.545908\n",
       "          std     252.114736\n",
       "          min       1.000000\n",
       "          25%      81.000000\n",
       "          50%     137.000000\n",
       "          75%     233.750000\n",
       "          max    4185.000000\n",
       "reprovado count   659.000000\n",
       "          mean    223.449165\n",
       "          std     319.522599\n",
       "          min       1.000000\n",
       "          25%      73.000000\n",
       "          50%     129.000000\n",
       "          75%     235.500000\n",
       "          max    2562.000000"
      ]
     },
     "execution_count": 179,
     "metadata": {},
     "output_type": "execute_result"
    }
   ],
   "source": [
    "df_messages.groupby('reason').describe()"
   ]
  },
  {
   "cell_type": "markdown",
   "metadata": {},
   "source": [
    "Evaluating the reject probability by message length alone is not going to be possible, then, since they are very similar\n",
    "\n",
    "So let's try something else"
   ]
  },
  {
   "cell_type": "markdown",
   "metadata": {},
   "source": [
    "# Spotteds to Vectors\n",
    "\n",
    "Here we'll create a bag of words containing all words and n-grams present on the spotteds."
   ]
  },
  {
   "cell_type": "code",
   "execution_count": 180,
   "metadata": {
    "collapsed": false
   },
   "outputs": [
    {
     "name": "stdout",
     "output_type": "stream",
     "text": [
      "(1318, 56545)\n"
     ]
    }
   ],
   "source": [
    "spotteds = merge_data(approved, rejected, 1)\n",
    "\n",
    "# First we initialize the vectorizer\n",
    "count_vectorizer = CountVectorizer(strip_accents='ascii', analyzer='word', stop_words=stopwords, ngram_range=(1, 3))\n",
    "\n",
    "# Since we are not using dataframes we need to create a list of words\n",
    "spotteds_messages = [x['message'] for x in spotteds]\n",
    "spotteds_reasons = [x['reason'] for x in spotteds]\n",
    "\n",
    "# Then we fit and transform it to create our bag of words\n",
    "count_transformer = count_vectorizer.fit(spotteds_messages)\n",
    "bag_o_words = count_transformer.transform(spotteds_messages)\n",
    "\n",
    "print(bag_o_words.shape)"
   ]
  },
  {
   "cell_type": "markdown",
   "metadata": {},
   "source": [
    "### Normalizing our bag\n",
    "\n",
    "In order for us to get better results, its a good idea to normalize and do some term weighting using sklearn's TF-IDF methods"
   ]
  },
  {
   "cell_type": "code",
   "execution_count": 181,
   "metadata": {
    "collapsed": false
   },
   "outputs": [
    {
     "name": "stdout",
     "output_type": "stream",
     "text": [
      "(1318, 56545)\n"
     ]
    }
   ],
   "source": [
    "tfidf_transformer = TfidfTransformer().fit(bag_o_words)\n",
    "\n",
    "norm_bag_o_words = tfidf_transformer.transform(bag_o_words)\n",
    "\n",
    "print(norm_bag_o_words.shape)"
   ]
  },
  {
   "cell_type": "markdown",
   "metadata": {},
   "source": [
    "# Training our model\n",
    "\n",
    "now that we extracted our features it's time to create and train our model to predict stuff\n",
    "\n",
    "We'll use Naive Bayes for now, but later we'll experiment with some other classification algorithms"
   ]
  },
  {
   "cell_type": "code",
   "execution_count": 182,
   "metadata": {
    "collapsed": false
   },
   "outputs": [
    {
     "name": "stdout",
     "output_type": "stream",
     "text": [
      "CPU times: user 11.5 ms, sys: 6.46 ms, total: 18 ms\n",
      "Wall time: 18 ms\n"
     ]
    }
   ],
   "source": [
    "%time approve_predictor = MultinomialNB().fit(norm_bag_o_words, spotteds_reasons)"
   ]
  },
  {
   "cell_type": "markdown",
   "metadata": {},
   "source": [
    "Let's classify some random messages"
   ]
  },
  {
   "cell_type": "code",
   "execution_count": 183,
   "metadata": {
    "collapsed": false
   },
   "outputs": [
    {
     "name": "stdout",
     "output_type": "stream",
     "text": [
      "Ariane Rampazzo da farma, te admirei por vários dias e finalmente descobri seu nome!!\r\n",
      "Agora só falta descobrir se você beija meninas, do you? 🌚\n",
      "predicted: rejected\n",
      "expected: rejected\n"
     ]
    }
   ],
   "source": [
    "spotted_number = 3\n",
    "single_spotted = tfidf_transformer.transform(count_transformer.transform([spotteds[spotted_number]['message']]))\n",
    "print(spotteds[spotted_number]['message'])\n",
    "print('predicted:', approve_predictor.predict(single_spotted)[0])\n",
    "print('expected:', spotteds[spotted_number]['reason'])"
   ]
  },
  {
   "cell_type": "markdown",
   "metadata": {},
   "source": [
    "Success!\n",
    "\n",
    "Now let's generate predictions for all spotteds"
   ]
  },
  {
   "cell_type": "code",
   "execution_count": 184,
   "metadata": {
    "collapsed": false
   },
   "outputs": [
    {
     "name": "stdout",
     "output_type": "stream",
     "text": [
      "['approved' 'rejected' 'approved' ..., 'approved' 'rejected' 'approved']\n"
     ]
    }
   ],
   "source": [
    "all_predictions = approve_predictor.predict(norm_bag_o_words)\n",
    "print(all_predictions)"
   ]
  },
  {
   "cell_type": "markdown",
   "metadata": {},
   "source": [
    "Let's evaluate it a little bit"
   ]
  },
  {
   "cell_type": "code",
   "execution_count": 185,
   "metadata": {
    "collapsed": false
   },
   "outputs": [
    {
     "name": "stdout",
     "output_type": "stream",
     "text": [
      "accuracy 0.98937784522\n",
      "confusion matrix\n",
      " [[654   5]\n",
      " [  9 650]]\n",
      "\n"
     ]
    },
    {
     "data": {
      "text/plain": [
       "<matplotlib.text.Text at 0x12115bcc0>"
      ]
     },
     "execution_count": 185,
     "metadata": {},
     "output_type": "execute_result"
    },
    {
     "data": {
      "image/png": "[encoded data removed]",
      "text/plain": [
       "<matplotlib.figure.Figure at 0x11efd5cf8>"
      ]
     },
     "metadata": {},
     "output_type": "display_data"
    }
   ],
   "source": [
    "print('accuracy', accuracy_score(spotteds_reasons, all_predictions))\n",
    "print('confusion matrix\\n', confusion_matrix(spotteds_reasons, all_predictions))\n",
    "print()\n",
    "plt.matshow(confusion_matrix(spotteds_reasons, all_predictions), cmap=plt.cm.binary, interpolation='nearest')\n",
    "plt.title('confusion matrix')\n",
    "plt.colorbar()\n",
    "plt.ylabel('expected label')\n",
    "plt.xlabel('predicted label')"
   ]
  },
  {
   "cell_type": "code",
   "execution_count": 186,
   "metadata": {
    "collapsed": false
   },
   "outputs": [
    {
     "name": "stdout",
     "output_type": "stream",
     "text": [
      "             precision    recall  f1-score   support\n",
      "\n",
      "   approved       0.99      0.99      0.99       659\n",
      "   rejected       0.99      0.99      0.99       659\n",
      "\n",
      "avg / total       0.99      0.99      0.99      1318\n",
      "\n"
     ]
    }
   ],
   "source": [
    "print(classification_report(spotteds_reasons, all_predictions))"
   ]
  },
  {
   "cell_type": "markdown",
   "metadata": {},
   "source": [
    "# Testing our model\n",
    "\n",
    "Now that we have our model ready, let's test it a little bit\n",
    "\n",
    "First we create training and testing sets"
   ]
  },
  {
   "cell_type": "code",
   "execution_count": 187,
   "metadata": {
    "collapsed": true
   },
   "outputs": [],
   "source": [
    "msg_train, msg_test, label_train, label_test = train_test_split(spotteds_messages, spotteds_reasons, test_size=0.2)"
   ]
  },
  {
   "cell_type": "markdown",
   "metadata": {},
   "source": [
    "Then we recap our pipeline"
   ]
  },
  {
   "cell_type": "code",
   "execution_count": 188,
   "metadata": {
    "collapsed": false
   },
   "outputs": [],
   "source": [
    "pipeline = Pipeline([\n",
    "    ('vectorizer', CountVectorizer(strip_accents='ascii', analyzer='word', stop_words=stopwords, ngram_range=(1, 3))),\n",
    "    ('tfidf', TfidfTransformer(use_idf=False)),\n",
    "    ('classifier', MultinomialNB()),\n",
    "])"
   ]
  },
  {
   "cell_type": "markdown",
   "metadata": {},
   "source": [
    "Then we test it"
   ]
  },
  {
   "cell_type": "code",
   "execution_count": 189,
   "metadata": {
    "collapsed": false
   },
   "outputs": [
    {
     "name": "stdout",
     "output_type": "stream",
     "text": [
      "[ 0.67924528  0.70754717  0.64150943  0.73584906  0.73584906  0.64150943\n",
      "  0.67619048  0.7047619   0.63461538  0.66346154]\n",
      "\n",
      "0.682053873799 0.0358879676272\n"
     ]
    }
   ],
   "source": [
    "scores = cross_val_score(pipeline,\n",
    "                         msg_train,\n",
    "                         label_train,\n",
    "                         cv=10,\n",
    "                         scoring='accuracy',\n",
    "                         n_jobs=-1,\n",
    "                         )\n",
    "print(scores)\n",
    "print()\n",
    "print(scores.mean(), scores.std())"
   ]
  },
  {
   "cell_type": "markdown",
   "metadata": {},
   "source": [
    "Meh. A little more than average modeling, but that may be due to the fact that our data contains a lot of garbage and can be further cleaned.\n",
    "\n",
    "Another nice thing that we can do is generate some learning curves to see how our model changes over time"
   ]
  },
  {
   "cell_type": "code",
   "execution_count": 190,
   "metadata": {
    "collapsed": true
   },
   "outputs": [],
   "source": [
    "def plot_learning_curve(estimator, title, X, y, ylim=None, cv=None,\n",
    "                        n_jobs=-1, train_sizes=np.linspace(.1, 1.0, 5)):\n",
    "    \"\"\"\n",
    "    Generate a simple plot of the test and traning learning curve.\n",
    "\n",
    "    Parameters\n",
    "    ----------\n",
    "    estimator : object type that implements the \"fit\" and \"predict\" methods\n",
    "        An object of that type which is cloned for each validation.\n",
    "\n",
    "    title : string\n",
    "        Title for the chart.\n",
    "\n",
    "    X : array-like, shape (n_samples, n_features)\n",
    "        Training vector, where n_samples is the number of samples and\n",
    "        n_features is the number of features.\n",
    "\n",
    "    y : array-like, shape (n_samples) or (n_samples, n_features), optional\n",
    "        Target relative to X for classification or regression;\n",
    "        None for unsupervised learning.\n",
    "\n",
    "    ylim : tuple, shape (ymin, ymax), optional\n",
    "        Defines minimum and maximum yvalues plotted.\n",
    "\n",
    "    cv : integer, cross-validation generator, optional\n",
    "        If an integer is passed, it is the number of folds (defaults to 3).\n",
    "        Specific cross-validation objects can be passed, see\n",
    "        sklearn.cross_validation module for the list of possible objects\n",
    "\n",
    "    n_jobs : integer, optional\n",
    "        Number of jobs to run in parallel (default 1).\n",
    "    \"\"\"\n",
    "    plt.figure()\n",
    "    plt.title(title)\n",
    "    if ylim is not None:\n",
    "        plt.ylim(*ylim)\n",
    "    plt.xlabel(\"Training examples\")\n",
    "    plt.ylabel(\"Score\")\n",
    "    train_sizes, train_scores, test_scores = learning_curve(\n",
    "        estimator, X, y, cv=cv, n_jobs=n_jobs, train_sizes=train_sizes)\n",
    "    train_scores_mean = np.mean(train_scores, axis=1)\n",
    "    train_scores_std = np.std(train_scores, axis=1)\n",
    "    test_scores_mean = np.mean(test_scores, axis=1)\n",
    "    test_scores_std = np.std(test_scores, axis=1)\n",
    "    plt.grid()\n",
    "\n",
    "    plt.fill_between(train_sizes, train_scores_mean - train_scores_std,\n",
    "                     train_scores_mean + train_scores_std, alpha=0.1,\n",
    "                     color=\"r\")\n",
    "    plt.fill_between(train_sizes, test_scores_mean - test_scores_std,\n",
    "                     test_scores_mean + test_scores_std, alpha=0.1, color=\"b\")\n",
    "    plt.plot(train_sizes, train_scores_mean, 'o-', color=\"r\",\n",
    "             label=\"Training score\")\n",
    "    plt.plot(train_sizes, test_scores_mean, 'o-', color=\"b\",\n",
    "             label=\"Cross-validation score\")\n",
    "\n",
    "    plt.legend(loc=\"best\")\n",
    "    return plt"
   ]
  },
  {
   "cell_type": "code",
   "execution_count": 191,
   "metadata": {
    "collapsed": false
   },
   "outputs": [
    {
     "name": "stdout",
     "output_type": "stream",
     "text": [
      "CPU times: user 281 ms, sys: 65.7 ms, total: 347 ms\n",
      "Wall time: 1.81 s\n"
     ]
    },
    {
     "data": {
      "text/plain": [
       "<module 'matplotlib.pyplot' from '/Users/Maronato/anaconda/lib/python3.5/site-packages/matplotlib/pyplot.py'>"
      ]
     },
     "execution_count": 191,
     "metadata": {},
     "output_type": "execute_result"
    },
    {
     "data": {
      "image/png": "[encoded data removed]",
      "text/plain": [
       "<matplotlib.figure.Figure at 0x11e7a52e8>"
      ]
     },
     "metadata": {},
     "output_type": "display_data"
    }
   ],
   "source": [
    "%time plot_learning_curve(pipeline, \"accuracy vs. training set size\", msg_train, label_train, cv=5)"
   ]
  },
  {
   "cell_type": "markdown",
   "metadata": {},
   "source": [
    "This shows us that we still have a lot to fix in our dataset, but the more data we collect, the better our predictions may become.\n",
    "\n",
    "But what if our pipeline is not ideal? We can evaluate it by doing a grid search on various possible parameters.\n",
    "\n",
    "The code below will try every permutation of pipeline parameter available and print the best performing one"
   ]
  },
  {
   "cell_type": "code",
   "execution_count": 192,
   "metadata": {
    "collapsed": false
   },
   "outputs": [
    {
     "name": "stdout",
     "output_type": "stream",
     "text": [
      "CPU times: user 2.49 s, sys: 173 ms, total: 2.66 s\n",
      "Wall time: 41 s\n",
      "mean: 0.68027, std: 0.02239, params: {'vectorizer__stop_words': ['de', 'a', 'o', 'que', 'e', 'do', 'da', 'em', 'um', 'para', 'é', 'com', 'não', 'uma', 'os', 'no', 'se', 'na', 'por', 'mais', 'as', 'dos', 'como', 'mas', 'foi', 'ao', 'ele', 'das', 'tem', 'à', 'seu', 'sua', 'ou', 'ser', 'quando', 'muito', 'há', 'nos', 'já', 'está', 'eu', 'também', 'só', 'pelo', 'pela', 'até', 'isso', 'ela', 'entre', 'era', 'depois', 'sem', 'mesmo', 'aos', 'ter', 'seus', 'quem', 'nas', 'me', 'esse', 'eles', 'estão', 'você', 'tinha', 'foram', 'essa', 'num', 'nem', 'suas', 'meu', 'às', 'minha', 'têm', 'numa', 'pelos', 'elas', 'havia', 'seja', 'qual', 'será', 'nós', 'tenho', 'lhe', 'deles', 'essas', 'esses', 'pelas', 'este', 'fosse', 'dele', 'tu', 'te', 'vocês', 'vos', 'lhes', 'meus', 'minhas', 'teu', 'tua', 'teus', 'tuas', 'nosso', 'nossa', 'nossos', 'nossas', 'dela', 'delas', 'esta', 'estes', 'estas', 'aquele', 'aquela', 'aqueles', 'aquelas', 'isto', 'aquilo', 'estou', 'está', 'estamos', 'estão', 'estive', 'esteve', 'estivemos', 'estiveram', 'estava', 'estávamos', 'estavam', 'estivera', 'estivéramos', 'esteja', 'estejamos', 'estejam', 'estivesse', 'estivéssemos', 'estivessem', 'estiver', 'estivermos', 'estiverem', 'hei', 'há', 'havemos', 'hão', 'houve', 'houvemos', 'houveram', 'houvera', 'houvéramos', 'haja', 'hajamos', 'hajam', 'houvesse', 'houvéssemos', 'houvessem', 'houver', 'houvermos', 'houverem', 'houverei', 'houverá', 'houveremos', 'houverão', 'houveria', 'houveríamos', 'houveriam', 'sou', 'somos', 'são', 'era', 'éramos', 'eram', 'fui', 'foi', 'fomos', 'foram', 'fora', 'fôramos', 'seja', 'sejamos', 'sejam', 'fosse', 'fôssemos', 'fossem', 'for', 'formos', 'forem', 'serei', 'será', 'seremos', 'serão', 'seria', 'seríamos', 'seriam', 'tenho', 'tem', 'temos', 'tém', 'tinha', 'tínhamos', 'tinham', 'tive', 'teve', 'tivemos', 'tiveram', 'tivera', 'tivéramos', 'tenha', 'tenhamos', 'tenham', 'tivesse', 'tivéssemos', 'tivessem', 'tiver', 'tivermos', 'tiverem', 'terei', 'terá', 'teremos', 'terão', 'teria', 'teríamos', 'teriam'], 'vectorizer__analyzer': 'word', 'tfidf__use_idf': False, 'vectorizer__ngram_range': (1, 2), 'vectorizer__strip_accents': 'ascii'}\n"
     ]
    }
   ],
   "source": [
    "params = {\n",
    "    'tfidf__use_idf': (True, False),\n",
    "    'vectorizer__analyzer': ('word', 'char', 'char_wb'),\n",
    "    'vectorizer__stop_words': (stopwords, None),\n",
    "    'vectorizer__ngram_range': ((1, 1), (1, 2), (1, 3)),\n",
    "    'vectorizer__strip_accents': ('ascii', 'unicode', None),\n",
    "}\n",
    "\n",
    "grid = GridSearchCV(\n",
    "    pipeline,  # pipeline from above\n",
    "    params,  # parameters to tune via cross validation\n",
    "    refit=True,  # fit using all available data at the end, on the best found param combination\n",
    "    n_jobs=-1,  # number of cores to use for parallelization; -1 for \"all cores\"\n",
    "    scoring='accuracy',  # what score are we optimizing?\n",
    "    cv=StratifiedKFold(label_train, n_folds=5),  # what type of cross validation to use\n",
    ")\n",
    "\n",
    "%time nb_detector = grid.fit(msg_train, label_train)\n",
    "print(max(nb_detector.grid_scores_, key=lambda x:x[1]))"
   ]
  },
  {
   "cell_type": "markdown",
   "metadata": {},
   "source": [
    "Remeber, tho, that here we are only predicting if a spotted is to be approved or rejected.\n",
    "\n",
    "We also have data to predict *why* said spotted will be rejected, so let us put that to use\n",
    "\n",
    "# Predicting Reasons\n",
    "\n",
    "predicting reasons should be very straightfoward and a lot of our previous code can be reused\n",
    "\n",
    "We start by creating another bag of words"
   ]
  },
  {
   "cell_type": "code",
   "execution_count": 193,
   "metadata": {
    "collapsed": false
   },
   "outputs": [
    {
     "name": "stdout",
     "output_type": "stream",
     "text": [
      "(659, 30702)\n"
     ]
    }
   ],
   "source": [
    "# Since we are not using dataframes we need to create a list of words\n",
    "rejected_detail = rand_reindex(rejected_detail)\n",
    "rej_messages = [x['message'] for x in rejected_detail]\n",
    "rej_reasons = [x['reason'] for x in rejected_detail]\n",
    "\n",
    "# Then we fit and transform it to create our bag of words\n",
    "rej_count_transformer = count_vectorizer.fit(rej_messages)\n",
    "rej_bag_o_words = count_transformer.transform(rej_messages)\n",
    "\n",
    "print(rej_bag_o_words.shape)"
   ]
  },
  {
   "cell_type": "code",
   "execution_count": 194,
   "metadata": {
    "collapsed": false
   },
   "outputs": [
    {
     "name": "stdout",
     "output_type": "stream",
     "text": [
      "(659, 30702)\n"
     ]
    }
   ],
   "source": [
    "rej_tfidf_transformer = TfidfTransformer().fit(rej_bag_o_words)\n",
    "\n",
    "rej_norm_bag_o_words = rej_tfidf_transformer.transform(rej_bag_o_words)\n",
    "\n",
    "print(rej_norm_bag_o_words.shape)"
   ]
  },
  {
   "cell_type": "code",
   "execution_count": 195,
   "metadata": {
    "collapsed": false
   },
   "outputs": [
    {
     "name": "stdout",
     "output_type": "stream",
     "text": [
      "CPU times: user 13.5 ms, sys: 6.96 ms, total: 20.4 ms\n",
      "Wall time: 19.8 ms\n"
     ]
    }
   ],
   "source": [
    "%time reason_predictor = MultinomialNB().fit(rej_norm_bag_o_words, rej_reasons)"
   ]
  },
  {
   "cell_type": "code",
   "execution_count": 196,
   "metadata": {
    "collapsed": false
   },
   "outputs": [
    {
     "name": "stdout",
     "output_type": "stream",
     "text": [
      "['Inadequado' 'Spam' 'Obsceno' 'Outro' 'Flood' 'Flood' 'Ofensivo'\n",
      " 'Repetido' 'Outro' 'Depressivo']\n"
     ]
    }
   ],
   "source": [
    "rej_predictions = reason_predictor.predict(rej_norm_bag_o_words)\n",
    "print(rej_predictions[:10])"
   ]
  },
  {
   "cell_type": "code",
   "execution_count": 197,
   "metadata": {
    "collapsed": false
   },
   "outputs": [
    {
     "name": "stdout",
     "output_type": "stream",
     "text": [
      "accuracy 0.854324734446\n",
      "confusion matrix\n",
      " [[ 0  0  0  0  1  0  0  0  0  0  0  1  0  0  0]\n",
      " [ 0  0  0  0  0  0  0  0  0  0  0  5  6  0  0]\n",
      " [ 0  0  0  0 11  0  0  0  0  0  0  6  2  0  0]\n",
      " [ 0  0  0 32  0  0  0  0  0  0  0  2  2  0  0]\n",
      " [ 0  0  0  0 76  0  0  0  0  1  0  1  0  0  0]\n",
      " [ 0  0  0  0  0 58  0  0  0  0  0  0  0  0  0]\n",
      " [ 0  0  0  0  2  0  2  0  0  0  0 15 10  0  0]\n",
      " [ 0  0  0  0  0  0  0 29  0  0  0  2  6  0  1]\n",
      " [ 0  0  0  0  1  0  0  0  0  0  0  1  3  0  0]\n",
      " [ 0  0  0  0  0  0  0  0  0 75  0  0  1  0  0]\n",
      " [ 0  0  0  0  2  0  0  0  0  0  0  6  3  0  0]\n",
      " [ 0  0  0  0  0  0  0  0  0  0  0 87  0  0  0]\n",
      " [ 0  0  0  0  0  0  0  0  0  0  0  0 87  0  0]\n",
      " [ 0  0  0  0  0  0  0  0  0  0  0  3  1 60  0]\n",
      " [ 0  0  0  0  0  0  0  0  0  0  0  1  0  0 57]]\n",
      "\n"
     ]
    },
    {
     "data": {
      "text/plain": [
       "<matplotlib.text.Text at 0x11e973da0>"
      ]
     },
     "execution_count": 197,
     "metadata": {},
     "output_type": "execute_result"
    },
    {
     "data": {
      "image/png": "[encoded data removed]",
      "text/plain": [
       "<matplotlib.figure.Figure at 0x11eef6668>"
      ]
     },
     "metadata": {},
     "output_type": "display_data"
    }
   ],
   "source": [
    "print('accuracy', accuracy_score(rej_reasons, rej_predictions))\n",
    "print('confusion matrix\\n', confusion_matrix(rej_reasons, rej_predictions))\n",
    "print()\n",
    "plt.matshow(confusion_matrix(rej_reasons, rej_predictions), cmap=plt.cm.binary, interpolation='nearest')\n",
    "plt.title('confusion matrix')\n",
    "plt.colorbar()\n",
    "plt.ylabel('expected label')\n",
    "plt.xlabel('predicted label')"
   ]
  },
  {
   "cell_type": "code",
   "execution_count": 198,
   "metadata": {
    "collapsed": false
   },
   "outputs": [
    {
     "name": "stdout",
     "output_type": "stream",
     "text": [
      "             precision    recall  f1-score   support\n",
      "\n",
      "Bullying individual       0.00      0.00      0.00         2\n",
      "Conteúdo comercial       0.00      0.00      0.00        11\n",
      "Corrente ou spam       0.00      0.00      0.00        19\n",
      " Depressivo       1.00      0.89      0.94        36\n",
      "      Flood       0.82      0.97      0.89        78\n",
      " Inadequado       1.00      1.00      1.00        58\n",
      "Não quero escolher outro motivo       1.00      0.07      0.13        29\n",
      "    Obsceno       1.00      0.76      0.87        38\n",
      "Obsceno ou Assédio       0.00      0.00      0.00         5\n",
      "   Ofensivo       0.99      0.99      0.99        76\n",
      "Ofensivo ou Ódio       0.00      0.00      0.00        11\n",
      "  Off-topic       0.67      1.00      0.80        87\n",
      "      Outro       0.72      1.00      0.84        87\n",
      "   Repetido       1.00      0.94      0.97        64\n",
      "       Spam       0.98      0.98      0.98        58\n",
      "\n",
      "avg / total       0.82      0.85      0.81       659\n",
      "\n"
     ]
    },
    {
     "name": "stderr",
     "output_type": "stream",
     "text": [
      "/Users/Maronato/anaconda/lib/python3.5/site-packages/sklearn/metrics/classification.py:1074: UndefinedMetricWarning: Precision and F-score are ill-defined and being set to 0.0 in labels with no predicted samples.\n",
      "  'precision', 'predicted', average, warn_for)\n"
     ]
    }
   ],
   "source": [
    "print(classification_report(rej_reasons, rej_predictions))"
   ]
  },
  {
   "cell_type": "code",
   "execution_count": 199,
   "metadata": {
    "collapsed": true
   },
   "outputs": [],
   "source": [
    "msg_train, msg_test, label_train, label_test = train_test_split(rej_messages, rej_reasons, test_size=0.2)"
   ]
  },
  {
   "cell_type": "code",
   "execution_count": 200,
   "metadata": {
    "collapsed": false
   },
   "outputs": [
    {
     "name": "stderr",
     "output_type": "stream",
     "text": [
      "/Users/Maronato/anaconda/lib/python3.5/site-packages/sklearn/cross_validation.py:516: Warning: The least populated class in y has only 2 members, which is too few. The minimum number of labels for any class cannot be less than n_folds=10.\n",
      "  % (min_labels, self.n_folds)), Warning)\n"
     ]
    },
    {
     "name": "stdout",
     "output_type": "stream",
     "text": [
      "[ 0.16393443  0.16949153  0.22413793  0.27272727  0.16666667  0.17647059\n",
      "  0.2244898   0.19148936  0.14893617  0.19565217]\n",
      "\n",
      "0.193399591206 0.0355402283119\n"
     ]
    }
   ],
   "source": [
    "scores = cross_val_score(pipeline,\n",
    "                         msg_train,\n",
    "                         label_train,\n",
    "                         cv=10,\n",
    "                         scoring='accuracy',\n",
    "                         n_jobs=-1,\n",
    "                         )\n",
    "print(scores)\n",
    "print()\n",
    "print(scores.mean(), scores.std())"
   ]
  },
  {
   "cell_type": "code",
   "execution_count": 201,
   "metadata": {
    "collapsed": false
   },
   "outputs": [
    {
     "name": "stderr",
     "output_type": "stream",
     "text": [
      "/Users/Maronato/anaconda/lib/python3.5/site-packages/sklearn/cross_validation.py:516: Warning: The least populated class in y has only 2 members, which is too few. The minimum number of labels for any class cannot be less than n_folds=10.\n",
      "  % (min_labels, self.n_folds)), Warning)\n"
     ]
    },
    {
     "name": "stdout",
     "output_type": "stream",
     "text": [
      "CPU times: user 332 ms, sys: 62.1 ms, total: 394 ms\n",
      "Wall time: 1.63 s\n"
     ]
    },
    {
     "data": {
      "text/plain": [
       "<module 'matplotlib.pyplot' from '/Users/Maronato/anaconda/lib/python3.5/site-packages/matplotlib/pyplot.py'>"
      ]
     },
     "execution_count": 201,
     "metadata": {},
     "output_type": "execute_result"
    },
    {
     "data": {
      "image/png": "[encoded data removed]",
      "text/plain": [
       "<matplotlib.figure.Figure at 0x1210dd400>"
      ]
     },
     "metadata": {},
     "output_type": "display_data"
    }
   ],
   "source": [
    "%time plot_learning_curve(pipeline, \"accuracy vs. training set size\", msg_train, label_train, cv=10)"
   ]
  },
  {
   "cell_type": "markdown",
   "metadata": {},
   "source": [
    "As you can see, our prediction is pretty bad, but when you think about it we have about 15 labels, so getting it right 1/5 of the time isn't so bad. It's a lot better than luck, anyway, and our dataset is pretty lacking.\n",
    "\n",
    "But we can try more. Let's try\n",
    "\n",
    "# SVMs\n",
    "\n",
    "SVMs are another option that we can try. Let's jump to the fun part and evaluate the best possible parameters and check how they perform when compared to NB"
   ]
  },
  {
   "cell_type": "code",
   "execution_count": 202,
   "metadata": {
    "collapsed": false
   },
   "outputs": [
    {
     "name": "stdout",
     "output_type": "stream",
     "text": [
      "CPU times: user 958 ms, sys: 83.1 ms, total: 1.04 s\n",
      "Wall time: 6.96 s\n",
      "mean: 0.65750, std: 0.03527, params: {'classifier__C': 10, 'classifier__kernel': 'linear'}\n"
     ]
    }
   ],
   "source": [
    "# Generate new training and testing sets\n",
    "msg_train, msg_test, label_train, label_test = train_test_split(spotteds_messages, spotteds_reasons, test_size=0.2)\n",
    "\n",
    "pipeline_svm = Pipeline([\n",
    "    ('vectorizer', CountVectorizer(strip_accents='ascii', lowercase=False, analyzer='word', stop_words=stopwords, ngram_range=(1, 3))),\n",
    "    ('tfidf', TfidfTransformer(use_idf=False)),\n",
    "    ('classifier', SVC()),\n",
    "])\n",
    "\n",
    "# pipeline parameters to automatically explore and tune\n",
    "param_svm = [\n",
    "  {'classifier__C': [1, 10, 100, 1000], 'classifier__kernel': ['linear']},\n",
    "  {'classifier__C': [1, 10, 100, 1000], 'classifier__gamma': [0.001, 0.0001], 'classifier__kernel': ['rbf']},\n",
    "]\n",
    "\n",
    "grid_svm = GridSearchCV(\n",
    "    pipeline_svm,  # pipeline from above\n",
    "    param_grid=param_svm,  # parameters to tune via cross validation\n",
    "    refit=True,  # fit using all data, on the best detected classifier\n",
    "    n_jobs=-1,  # number of cores to use for parallelization; -1 for \"all cores\"\n",
    "    scoring='accuracy',  # what score are we optimizing?\n",
    "    cv=StratifiedKFold(label_train, n_folds=5),  # what type of cross validation to use\n",
    ")\n",
    "\n",
    "\n",
    "%time svm_detector = grid_svm.fit(msg_train, label_train) # find the best combination from param_svm\n",
    "print(max(svm_detector.grid_scores_, key=lambda x:x[1]))"
   ]
  },
  {
   "cell_type": "code",
   "execution_count": 203,
   "metadata": {
    "collapsed": false
   },
   "outputs": [
    {
     "name": "stdout",
     "output_type": "stream",
     "text": [
      "accuracy 0.628787878788\n",
      "confusion matrix\n",
      " [[85 51]\n",
      " [47 81]]\n",
      "\n"
     ]
    },
    {
     "data": {
      "text/plain": [
       "<matplotlib.text.Text at 0x121f3ee10>"
      ]
     },
     "execution_count": 203,
     "metadata": {},
     "output_type": "execute_result"
    },
    {
     "data": {
      "image/png": "[encoded data removed]",
      "text/plain": [
       "<matplotlib.figure.Figure at 0x11fafbc18>"
      ]
     },
     "metadata": {},
     "output_type": "display_data"
    }
   ],
   "source": [
    "svm_predictions = svm_detector.predict(msg_test)\n",
    "print('accuracy', accuracy_score(label_test, svm_predictions))\n",
    "print('confusion matrix\\n', confusion_matrix(label_test, svm_predictions))\n",
    "print()\n",
    "plt.matshow(confusion_matrix(label_test, svm_predictions), cmap=plt.cm.binary, interpolation='nearest')\n",
    "plt.title('confusion matrix')\n",
    "plt.colorbar()\n",
    "plt.ylabel('expected label')\n",
    "plt.xlabel('predicted label')"
   ]
  },
  {
   "cell_type": "markdown",
   "metadata": {},
   "source": [
    "A little better, huh?\n",
    "\n",
    "Maybe if we combine the two together and then create multiple layers of them both, and maybe if we iteratively train vectors with other parameters and input them into our _network_\n",
    "\n",
    "uh! uh! Maybe if we create a custom _tokenizer_ so that 'vc' and 'você' are tokenized as one! That ought to yield better results, right?\n",
    "\n",
    "# Further analysis\n",
    "\n",
    "Our models are rather ok, but we can make them better. Main focus of development are:\n",
    "\n",
    "- Custom Tokenizer\n",
    "- Clean dataset\n",
    "- Explore other models\n",
    "- Explore neural nets"
   ]
  }
 ],
 "metadata": {
  "anaconda-cloud": {},
  "kernelspec": {
   "display_name": "Python [conda root]",
   "language": "python",
   "name": "conda-root-py"
  },
  "language_info": {
   "codemirror_mode": {
    "name": "ipython",
    "version": 3
   },
   "file_extension": ".py",
   "mimetype": "text/x-python",
   "name": "python",
   "nbconvert_exporter": "python",
   "pygments_lexer": "ipython3",
   "version": "3.5.2"
  }
 },
 "nbformat": 4,
 "nbformat_minor": 1
}
